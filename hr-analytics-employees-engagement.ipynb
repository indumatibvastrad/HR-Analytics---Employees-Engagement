{
 "cells": [
  {
   "cell_type": "markdown",
   "id": "a8da83c4",
   "metadata": {
    "papermill": {
     "duration": 0.018585,
     "end_time": "2023-09-14T15:24:46.393607",
     "exception": false,
     "start_time": "2023-09-14T15:24:46.375022",
     "status": "completed"
    },
    "tags": []
   },
   "source": [
    "# **HR Analytics - Employees Engagement**\n",
    "\n",
    "**HELLO! In this EDA project we will performing HR Analytics - Employees Engagement Analysis which is present in kaggle platform.In this EDA Project we will analyze and visualize our dataset.**\n",
    "\n",
    "\n",
    "\n",
    "\n",
    "* **The job role of a HR is not that easy as it seems from the outside**\n",
    "\n",
    "* **The HR's have to actively participate in the recruitment process, helping employees with their issues, maintaining positive work environment, analysing the performance and efficiency, and many more**\n",
    "\n",
    "* **Among all the job responsibilites of an HR, evaluating the performance and efficiency of the employees is considered the most difficult task**\n",
    "\n",
    "* **The difficulty level of this task is directly proportional to the no. of employees who work under that particular HR**\n",
    "\n",
    "* **Thus, to deal with this, we have come with an Exploratory Data Analysis (EDA) project**\n",
    "\n",
    "* **Here, we'll be performing different analysis and visualizations using the Employees Enagagment Dataset to obtain some valuable insights**"
   ]
  },
  {
   "cell_type": "markdown",
   "id": "5179c233",
   "metadata": {
    "papermill": {
     "duration": 0.016482,
     "end_time": "2023-09-14T15:24:46.427692",
     "exception": false,
     "start_time": "2023-09-14T15:24:46.411210",
     "status": "completed"
    },
    "tags": []
   },
   "source": [
    "# **Importing Libraries**"
   ]
  },
  {
   "cell_type": "markdown",
   "id": "7b1150ce",
   "metadata": {
    "papermill": {
     "duration": 0.016637,
     "end_time": "2023-09-14T15:24:46.461415",
     "exception": false,
     "start_time": "2023-09-14T15:24:46.444778",
     "status": "completed"
    },
    "tags": []
   },
   "source": [
    "**For the analysis, we have to immport some python libraries. Thus, we'll import pandas for analysis and matplotlib for the visualization purpose**"
   ]
  },
  {
   "cell_type": "code",
   "execution_count": 1,
   "id": "caba7c3b",
   "metadata": {
    "execution": {
     "iopub.execute_input": "2023-09-14T15:24:46.498925Z",
     "iopub.status.busy": "2023-09-14T15:24:46.498128Z",
     "iopub.status.idle": "2023-09-14T15:24:48.454122Z",
     "shell.execute_reply": "2023-09-14T15:24:48.452974Z"
    },
    "papermill": {
     "duration": 1.977457,
     "end_time": "2023-09-14T15:24:48.456837",
     "exception": false,
     "start_time": "2023-09-14T15:24:46.479380",
     "status": "completed"
    },
    "tags": []
   },
   "outputs": [],
   "source": [
    "import numpy as np\n",
    "import pandas as pd\n",
    "import matplotlib.pyplot as plt\n",
    "import seaborn as sns"
   ]
  },
  {
   "cell_type": "markdown",
   "id": "32449d6b",
   "metadata": {
    "papermill": {
     "duration": 0.019048,
     "end_time": "2023-09-14T15:24:48.493182",
     "exception": false,
     "start_time": "2023-09-14T15:24:48.474134",
     "status": "completed"
    },
    "tags": []
   },
   "source": [
    "# **Importing Dataset**"
   ]
  },
  {
   "cell_type": "code",
   "execution_count": 2,
   "id": "74aff112",
   "metadata": {
    "execution": {
     "iopub.execute_input": "2023-09-14T15:24:48.530644Z",
     "iopub.status.busy": "2023-09-14T15:24:48.529804Z",
     "iopub.status.idle": "2023-09-14T15:24:48.602897Z",
     "shell.execute_reply": "2023-09-14T15:24:48.601743Z"
    },
    "papermill": {
     "duration": 0.095047,
     "end_time": "2023-09-14T15:24:48.606219",
     "exception": false,
     "start_time": "2023-09-14T15:24:48.511172",
     "status": "completed"
    },
    "tags": []
   },
   "outputs": [
    {
     "data": {
      "text/html": [
       "<div>\n",
       "<style scoped>\n",
       "    .dataframe tbody tr th:only-of-type {\n",
       "        vertical-align: middle;\n",
       "    }\n",
       "\n",
       "    .dataframe tbody tr th {\n",
       "        vertical-align: top;\n",
       "    }\n",
       "\n",
       "    .dataframe thead th {\n",
       "        text-align: right;\n",
       "    }\n",
       "</style>\n",
       "<table border=\"1\" class=\"dataframe\">\n",
       "  <thead>\n",
       "    <tr style=\"text-align: right;\">\n",
       "      <th></th>\n",
       "      <th>Employee_Name</th>\n",
       "      <th>EmpID</th>\n",
       "      <th>MarriedID</th>\n",
       "      <th>MaritalStatusID</th>\n",
       "      <th>GenderID</th>\n",
       "      <th>EmpStatusID</th>\n",
       "      <th>DeptID</th>\n",
       "      <th>PerfScoreID</th>\n",
       "      <th>FromDiversityJobFairID</th>\n",
       "      <th>Salary</th>\n",
       "      <th>...</th>\n",
       "      <th>ManagerName</th>\n",
       "      <th>ManagerID</th>\n",
       "      <th>RecruitmentSource</th>\n",
       "      <th>PerformanceScore</th>\n",
       "      <th>EngagementSurvey</th>\n",
       "      <th>EmpSatisfaction</th>\n",
       "      <th>SpecialProjectsCount</th>\n",
       "      <th>LastPerformanceReview_Date</th>\n",
       "      <th>DaysLateLast30</th>\n",
       "      <th>Absences</th>\n",
       "    </tr>\n",
       "  </thead>\n",
       "  <tbody>\n",
       "    <tr>\n",
       "      <th>0</th>\n",
       "      <td>Adinolfi, Wilson  K</td>\n",
       "      <td>10026</td>\n",
       "      <td>0</td>\n",
       "      <td>0</td>\n",
       "      <td>1</td>\n",
       "      <td>1</td>\n",
       "      <td>5</td>\n",
       "      <td>4</td>\n",
       "      <td>0</td>\n",
       "      <td>62506</td>\n",
       "      <td>...</td>\n",
       "      <td>Michael Albert</td>\n",
       "      <td>22.0</td>\n",
       "      <td>LinkedIn</td>\n",
       "      <td>Exceeds</td>\n",
       "      <td>4.60</td>\n",
       "      <td>5</td>\n",
       "      <td>0</td>\n",
       "      <td>1/17/2019</td>\n",
       "      <td>0</td>\n",
       "      <td>1</td>\n",
       "    </tr>\n",
       "    <tr>\n",
       "      <th>1</th>\n",
       "      <td>Ait Sidi, Karthikeyan</td>\n",
       "      <td>10084</td>\n",
       "      <td>1</td>\n",
       "      <td>1</td>\n",
       "      <td>1</td>\n",
       "      <td>5</td>\n",
       "      <td>3</td>\n",
       "      <td>3</td>\n",
       "      <td>0</td>\n",
       "      <td>104437</td>\n",
       "      <td>...</td>\n",
       "      <td>Simon Roup</td>\n",
       "      <td>4.0</td>\n",
       "      <td>Indeed</td>\n",
       "      <td>Fully Meets</td>\n",
       "      <td>4.96</td>\n",
       "      <td>3</td>\n",
       "      <td>6</td>\n",
       "      <td>2/24/2016</td>\n",
       "      <td>0</td>\n",
       "      <td>17</td>\n",
       "    </tr>\n",
       "    <tr>\n",
       "      <th>2</th>\n",
       "      <td>Akinkuolie, Sarah</td>\n",
       "      <td>10196</td>\n",
       "      <td>1</td>\n",
       "      <td>1</td>\n",
       "      <td>0</td>\n",
       "      <td>5</td>\n",
       "      <td>5</td>\n",
       "      <td>3</td>\n",
       "      <td>0</td>\n",
       "      <td>64955</td>\n",
       "      <td>...</td>\n",
       "      <td>Kissy Sullivan</td>\n",
       "      <td>20.0</td>\n",
       "      <td>LinkedIn</td>\n",
       "      <td>Fully Meets</td>\n",
       "      <td>3.02</td>\n",
       "      <td>3</td>\n",
       "      <td>0</td>\n",
       "      <td>5/15/2012</td>\n",
       "      <td>0</td>\n",
       "      <td>3</td>\n",
       "    </tr>\n",
       "    <tr>\n",
       "      <th>3</th>\n",
       "      <td>Alagbe,Trina</td>\n",
       "      <td>10088</td>\n",
       "      <td>1</td>\n",
       "      <td>1</td>\n",
       "      <td>0</td>\n",
       "      <td>1</td>\n",
       "      <td>5</td>\n",
       "      <td>3</td>\n",
       "      <td>0</td>\n",
       "      <td>64991</td>\n",
       "      <td>...</td>\n",
       "      <td>Elijiah Gray</td>\n",
       "      <td>16.0</td>\n",
       "      <td>Indeed</td>\n",
       "      <td>Fully Meets</td>\n",
       "      <td>4.84</td>\n",
       "      <td>5</td>\n",
       "      <td>0</td>\n",
       "      <td>1/3/2019</td>\n",
       "      <td>0</td>\n",
       "      <td>15</td>\n",
       "    </tr>\n",
       "    <tr>\n",
       "      <th>4</th>\n",
       "      <td>Anderson, Carol</td>\n",
       "      <td>10069</td>\n",
       "      <td>0</td>\n",
       "      <td>2</td>\n",
       "      <td>0</td>\n",
       "      <td>5</td>\n",
       "      <td>5</td>\n",
       "      <td>3</td>\n",
       "      <td>0</td>\n",
       "      <td>50825</td>\n",
       "      <td>...</td>\n",
       "      <td>Webster Butler</td>\n",
       "      <td>39.0</td>\n",
       "      <td>Google Search</td>\n",
       "      <td>Fully Meets</td>\n",
       "      <td>5.00</td>\n",
       "      <td>4</td>\n",
       "      <td>0</td>\n",
       "      <td>2/1/2016</td>\n",
       "      <td>0</td>\n",
       "      <td>2</td>\n",
       "    </tr>\n",
       "    <tr>\n",
       "      <th>...</th>\n",
       "      <td>...</td>\n",
       "      <td>...</td>\n",
       "      <td>...</td>\n",
       "      <td>...</td>\n",
       "      <td>...</td>\n",
       "      <td>...</td>\n",
       "      <td>...</td>\n",
       "      <td>...</td>\n",
       "      <td>...</td>\n",
       "      <td>...</td>\n",
       "      <td>...</td>\n",
       "      <td>...</td>\n",
       "      <td>...</td>\n",
       "      <td>...</td>\n",
       "      <td>...</td>\n",
       "      <td>...</td>\n",
       "      <td>...</td>\n",
       "      <td>...</td>\n",
       "      <td>...</td>\n",
       "      <td>...</td>\n",
       "      <td>...</td>\n",
       "    </tr>\n",
       "    <tr>\n",
       "      <th>306</th>\n",
       "      <td>Woodson, Jason</td>\n",
       "      <td>10135</td>\n",
       "      <td>0</td>\n",
       "      <td>0</td>\n",
       "      <td>1</td>\n",
       "      <td>1</td>\n",
       "      <td>5</td>\n",
       "      <td>3</td>\n",
       "      <td>0</td>\n",
       "      <td>65893</td>\n",
       "      <td>...</td>\n",
       "      <td>Kissy Sullivan</td>\n",
       "      <td>20.0</td>\n",
       "      <td>LinkedIn</td>\n",
       "      <td>Fully Meets</td>\n",
       "      <td>4.07</td>\n",
       "      <td>4</td>\n",
       "      <td>0</td>\n",
       "      <td>2/28/2019</td>\n",
       "      <td>0</td>\n",
       "      <td>13</td>\n",
       "    </tr>\n",
       "    <tr>\n",
       "      <th>307</th>\n",
       "      <td>Ybarra, Catherine</td>\n",
       "      <td>10301</td>\n",
       "      <td>0</td>\n",
       "      <td>0</td>\n",
       "      <td>0</td>\n",
       "      <td>5</td>\n",
       "      <td>5</td>\n",
       "      <td>1</td>\n",
       "      <td>0</td>\n",
       "      <td>48513</td>\n",
       "      <td>...</td>\n",
       "      <td>Brannon Miller</td>\n",
       "      <td>12.0</td>\n",
       "      <td>Google Search</td>\n",
       "      <td>PIP</td>\n",
       "      <td>3.20</td>\n",
       "      <td>2</td>\n",
       "      <td>0</td>\n",
       "      <td>9/2/2015</td>\n",
       "      <td>5</td>\n",
       "      <td>4</td>\n",
       "    </tr>\n",
       "    <tr>\n",
       "      <th>308</th>\n",
       "      <td>Zamora, Jennifer</td>\n",
       "      <td>10010</td>\n",
       "      <td>0</td>\n",
       "      <td>0</td>\n",
       "      <td>0</td>\n",
       "      <td>1</td>\n",
       "      <td>3</td>\n",
       "      <td>4</td>\n",
       "      <td>0</td>\n",
       "      <td>220450</td>\n",
       "      <td>...</td>\n",
       "      <td>Janet King</td>\n",
       "      <td>2.0</td>\n",
       "      <td>Employee Referral</td>\n",
       "      <td>Exceeds</td>\n",
       "      <td>4.60</td>\n",
       "      <td>5</td>\n",
       "      <td>6</td>\n",
       "      <td>2/21/2019</td>\n",
       "      <td>0</td>\n",
       "      <td>16</td>\n",
       "    </tr>\n",
       "    <tr>\n",
       "      <th>309</th>\n",
       "      <td>Zhou, Julia</td>\n",
       "      <td>10043</td>\n",
       "      <td>0</td>\n",
       "      <td>0</td>\n",
       "      <td>0</td>\n",
       "      <td>1</td>\n",
       "      <td>3</td>\n",
       "      <td>3</td>\n",
       "      <td>0</td>\n",
       "      <td>89292</td>\n",
       "      <td>...</td>\n",
       "      <td>Simon Roup</td>\n",
       "      <td>4.0</td>\n",
       "      <td>Employee Referral</td>\n",
       "      <td>Fully Meets</td>\n",
       "      <td>5.00</td>\n",
       "      <td>3</td>\n",
       "      <td>5</td>\n",
       "      <td>2/1/2019</td>\n",
       "      <td>0</td>\n",
       "      <td>11</td>\n",
       "    </tr>\n",
       "    <tr>\n",
       "      <th>310</th>\n",
       "      <td>Zima, Colleen</td>\n",
       "      <td>10271</td>\n",
       "      <td>0</td>\n",
       "      <td>4</td>\n",
       "      <td>0</td>\n",
       "      <td>1</td>\n",
       "      <td>5</td>\n",
       "      <td>3</td>\n",
       "      <td>0</td>\n",
       "      <td>45046</td>\n",
       "      <td>...</td>\n",
       "      <td>David Stanley</td>\n",
       "      <td>14.0</td>\n",
       "      <td>LinkedIn</td>\n",
       "      <td>Fully Meets</td>\n",
       "      <td>4.50</td>\n",
       "      <td>5</td>\n",
       "      <td>0</td>\n",
       "      <td>1/30/2019</td>\n",
       "      <td>0</td>\n",
       "      <td>2</td>\n",
       "    </tr>\n",
       "  </tbody>\n",
       "</table>\n",
       "<p>311 rows × 36 columns</p>\n",
       "</div>"
      ],
      "text/plain": [
       "                Employee_Name  EmpID  MarriedID  MaritalStatusID  GenderID  \\\n",
       "0         Adinolfi, Wilson  K  10026          0                0         1   \n",
       "1    Ait Sidi, Karthikeyan     10084          1                1         1   \n",
       "2           Akinkuolie, Sarah  10196          1                1         0   \n",
       "3                Alagbe,Trina  10088          1                1         0   \n",
       "4            Anderson, Carol   10069          0                2         0   \n",
       "..                        ...    ...        ...              ...       ...   \n",
       "306            Woodson, Jason  10135          0                0         1   \n",
       "307        Ybarra, Catherine   10301          0                0         0   \n",
       "308          Zamora, Jennifer  10010          0                0         0   \n",
       "309               Zhou, Julia  10043          0                0         0   \n",
       "310             Zima, Colleen  10271          0                4         0   \n",
       "\n",
       "     EmpStatusID  DeptID  PerfScoreID  FromDiversityJobFairID  Salary  ...  \\\n",
       "0              1       5            4                       0   62506  ...   \n",
       "1              5       3            3                       0  104437  ...   \n",
       "2              5       5            3                       0   64955  ...   \n",
       "3              1       5            3                       0   64991  ...   \n",
       "4              5       5            3                       0   50825  ...   \n",
       "..           ...     ...          ...                     ...     ...  ...   \n",
       "306            1       5            3                       0   65893  ...   \n",
       "307            5       5            1                       0   48513  ...   \n",
       "308            1       3            4                       0  220450  ...   \n",
       "309            1       3            3                       0   89292  ...   \n",
       "310            1       5            3                       0   45046  ...   \n",
       "\n",
       "        ManagerName  ManagerID  RecruitmentSource PerformanceScore  \\\n",
       "0    Michael Albert       22.0           LinkedIn          Exceeds   \n",
       "1        Simon Roup        4.0             Indeed      Fully Meets   \n",
       "2    Kissy Sullivan       20.0           LinkedIn      Fully Meets   \n",
       "3      Elijiah Gray       16.0             Indeed      Fully Meets   \n",
       "4    Webster Butler       39.0      Google Search      Fully Meets   \n",
       "..              ...        ...                ...              ...   \n",
       "306  Kissy Sullivan       20.0           LinkedIn      Fully Meets   \n",
       "307  Brannon Miller       12.0      Google Search              PIP   \n",
       "308      Janet King        2.0  Employee Referral          Exceeds   \n",
       "309      Simon Roup        4.0  Employee Referral      Fully Meets   \n",
       "310   David Stanley       14.0           LinkedIn      Fully Meets   \n",
       "\n",
       "     EngagementSurvey EmpSatisfaction SpecialProjectsCount  \\\n",
       "0                4.60               5                    0   \n",
       "1                4.96               3                    6   \n",
       "2                3.02               3                    0   \n",
       "3                4.84               5                    0   \n",
       "4                5.00               4                    0   \n",
       "..                ...             ...                  ...   \n",
       "306              4.07               4                    0   \n",
       "307              3.20               2                    0   \n",
       "308              4.60               5                    6   \n",
       "309              5.00               3                    5   \n",
       "310              4.50               5                    0   \n",
       "\n",
       "    LastPerformanceReview_Date DaysLateLast30 Absences  \n",
       "0                    1/17/2019              0        1  \n",
       "1                    2/24/2016              0       17  \n",
       "2                    5/15/2012              0        3  \n",
       "3                     1/3/2019              0       15  \n",
       "4                     2/1/2016              0        2  \n",
       "..                         ...            ...      ...  \n",
       "306                  2/28/2019              0       13  \n",
       "307                   9/2/2015              5        4  \n",
       "308                  2/21/2019              0       16  \n",
       "309                   2/1/2019              0       11  \n",
       "310                  1/30/2019              0        2  \n",
       "\n",
       "[311 rows x 36 columns]"
      ]
     },
     "execution_count": 2,
     "metadata": {},
     "output_type": "execute_result"
    }
   ],
   "source": [
    "a=pd.read_csv('/kaggle/input/human-resources-data-set/HRDataset_v14.csv')\n",
    "a"
   ]
  },
  {
   "cell_type": "code",
   "execution_count": 3,
   "id": "132e5edf",
   "metadata": {
    "execution": {
     "iopub.execute_input": "2023-09-14T15:24:48.644459Z",
     "iopub.status.busy": "2023-09-14T15:24:48.644055Z",
     "iopub.status.idle": "2023-09-14T15:24:48.650694Z",
     "shell.execute_reply": "2023-09-14T15:24:48.649920Z"
    },
    "papermill": {
     "duration": 0.027902,
     "end_time": "2023-09-14T15:24:48.652735",
     "exception": false,
     "start_time": "2023-09-14T15:24:48.624833",
     "status": "completed"
    },
    "tags": []
   },
   "outputs": [
    {
     "data": {
      "text/plain": [
       "(311, 36)"
      ]
     },
     "execution_count": 3,
     "metadata": {},
     "output_type": "execute_result"
    }
   ],
   "source": [
    "a.shape"
   ]
  },
  {
   "cell_type": "markdown",
   "id": "501b17db",
   "metadata": {
    "papermill": {
     "duration": 0.01756,
     "end_time": "2023-09-14T15:24:48.688208",
     "exception": false,
     "start_time": "2023-09-14T15:24:48.670648",
     "status": "completed"
    },
    "tags": []
   },
   "source": [
    "# **Assigning Index Column**"
   ]
  },
  {
   "cell_type": "code",
   "execution_count": 4,
   "id": "2f586de7",
   "metadata": {
    "execution": {
     "iopub.execute_input": "2023-09-14T15:24:48.725919Z",
     "iopub.status.busy": "2023-09-14T15:24:48.725078Z",
     "iopub.status.idle": "2023-09-14T15:24:48.771023Z",
     "shell.execute_reply": "2023-09-14T15:24:48.769943Z"
    },
    "papermill": {
     "duration": 0.067573,
     "end_time": "2023-09-14T15:24:48.773639",
     "exception": false,
     "start_time": "2023-09-14T15:24:48.706066",
     "status": "completed"
    },
    "tags": []
   },
   "outputs": [
    {
     "data": {
      "text/html": [
       "<div>\n",
       "<style scoped>\n",
       "    .dataframe tbody tr th:only-of-type {\n",
       "        vertical-align: middle;\n",
       "    }\n",
       "\n",
       "    .dataframe tbody tr th {\n",
       "        vertical-align: top;\n",
       "    }\n",
       "\n",
       "    .dataframe thead th {\n",
       "        text-align: right;\n",
       "    }\n",
       "</style>\n",
       "<table border=\"1\" class=\"dataframe\">\n",
       "  <thead>\n",
       "    <tr style=\"text-align: right;\">\n",
       "      <th></th>\n",
       "      <th>EmpID</th>\n",
       "      <th>MarriedID</th>\n",
       "      <th>MaritalStatusID</th>\n",
       "      <th>GenderID</th>\n",
       "      <th>EmpStatusID</th>\n",
       "      <th>DeptID</th>\n",
       "      <th>PerfScoreID</th>\n",
       "      <th>FromDiversityJobFairID</th>\n",
       "      <th>Salary</th>\n",
       "      <th>Termd</th>\n",
       "      <th>...</th>\n",
       "      <th>ManagerName</th>\n",
       "      <th>ManagerID</th>\n",
       "      <th>RecruitmentSource</th>\n",
       "      <th>PerformanceScore</th>\n",
       "      <th>EngagementSurvey</th>\n",
       "      <th>EmpSatisfaction</th>\n",
       "      <th>SpecialProjectsCount</th>\n",
       "      <th>LastPerformanceReview_Date</th>\n",
       "      <th>DaysLateLast30</th>\n",
       "      <th>Absences</th>\n",
       "    </tr>\n",
       "    <tr>\n",
       "      <th>Employee_Name</th>\n",
       "      <th></th>\n",
       "      <th></th>\n",
       "      <th></th>\n",
       "      <th></th>\n",
       "      <th></th>\n",
       "      <th></th>\n",
       "      <th></th>\n",
       "      <th></th>\n",
       "      <th></th>\n",
       "      <th></th>\n",
       "      <th></th>\n",
       "      <th></th>\n",
       "      <th></th>\n",
       "      <th></th>\n",
       "      <th></th>\n",
       "      <th></th>\n",
       "      <th></th>\n",
       "      <th></th>\n",
       "      <th></th>\n",
       "      <th></th>\n",
       "      <th></th>\n",
       "    </tr>\n",
       "  </thead>\n",
       "  <tbody>\n",
       "    <tr>\n",
       "      <th>Adinolfi, Wilson  K</th>\n",
       "      <td>10026</td>\n",
       "      <td>0</td>\n",
       "      <td>0</td>\n",
       "      <td>1</td>\n",
       "      <td>1</td>\n",
       "      <td>5</td>\n",
       "      <td>4</td>\n",
       "      <td>0</td>\n",
       "      <td>62506</td>\n",
       "      <td>0</td>\n",
       "      <td>...</td>\n",
       "      <td>Michael Albert</td>\n",
       "      <td>22.0</td>\n",
       "      <td>LinkedIn</td>\n",
       "      <td>Exceeds</td>\n",
       "      <td>4.60</td>\n",
       "      <td>5</td>\n",
       "      <td>0</td>\n",
       "      <td>1/17/2019</td>\n",
       "      <td>0</td>\n",
       "      <td>1</td>\n",
       "    </tr>\n",
       "    <tr>\n",
       "      <th>Ait Sidi, Karthikeyan</th>\n",
       "      <td>10084</td>\n",
       "      <td>1</td>\n",
       "      <td>1</td>\n",
       "      <td>1</td>\n",
       "      <td>5</td>\n",
       "      <td>3</td>\n",
       "      <td>3</td>\n",
       "      <td>0</td>\n",
       "      <td>104437</td>\n",
       "      <td>1</td>\n",
       "      <td>...</td>\n",
       "      <td>Simon Roup</td>\n",
       "      <td>4.0</td>\n",
       "      <td>Indeed</td>\n",
       "      <td>Fully Meets</td>\n",
       "      <td>4.96</td>\n",
       "      <td>3</td>\n",
       "      <td>6</td>\n",
       "      <td>2/24/2016</td>\n",
       "      <td>0</td>\n",
       "      <td>17</td>\n",
       "    </tr>\n",
       "    <tr>\n",
       "      <th>Akinkuolie, Sarah</th>\n",
       "      <td>10196</td>\n",
       "      <td>1</td>\n",
       "      <td>1</td>\n",
       "      <td>0</td>\n",
       "      <td>5</td>\n",
       "      <td>5</td>\n",
       "      <td>3</td>\n",
       "      <td>0</td>\n",
       "      <td>64955</td>\n",
       "      <td>1</td>\n",
       "      <td>...</td>\n",
       "      <td>Kissy Sullivan</td>\n",
       "      <td>20.0</td>\n",
       "      <td>LinkedIn</td>\n",
       "      <td>Fully Meets</td>\n",
       "      <td>3.02</td>\n",
       "      <td>3</td>\n",
       "      <td>0</td>\n",
       "      <td>5/15/2012</td>\n",
       "      <td>0</td>\n",
       "      <td>3</td>\n",
       "    </tr>\n",
       "    <tr>\n",
       "      <th>Alagbe,Trina</th>\n",
       "      <td>10088</td>\n",
       "      <td>1</td>\n",
       "      <td>1</td>\n",
       "      <td>0</td>\n",
       "      <td>1</td>\n",
       "      <td>5</td>\n",
       "      <td>3</td>\n",
       "      <td>0</td>\n",
       "      <td>64991</td>\n",
       "      <td>0</td>\n",
       "      <td>...</td>\n",
       "      <td>Elijiah Gray</td>\n",
       "      <td>16.0</td>\n",
       "      <td>Indeed</td>\n",
       "      <td>Fully Meets</td>\n",
       "      <td>4.84</td>\n",
       "      <td>5</td>\n",
       "      <td>0</td>\n",
       "      <td>1/3/2019</td>\n",
       "      <td>0</td>\n",
       "      <td>15</td>\n",
       "    </tr>\n",
       "    <tr>\n",
       "      <th>Anderson, Carol</th>\n",
       "      <td>10069</td>\n",
       "      <td>0</td>\n",
       "      <td>2</td>\n",
       "      <td>0</td>\n",
       "      <td>5</td>\n",
       "      <td>5</td>\n",
       "      <td>3</td>\n",
       "      <td>0</td>\n",
       "      <td>50825</td>\n",
       "      <td>1</td>\n",
       "      <td>...</td>\n",
       "      <td>Webster Butler</td>\n",
       "      <td>39.0</td>\n",
       "      <td>Google Search</td>\n",
       "      <td>Fully Meets</td>\n",
       "      <td>5.00</td>\n",
       "      <td>4</td>\n",
       "      <td>0</td>\n",
       "      <td>2/1/2016</td>\n",
       "      <td>0</td>\n",
       "      <td>2</td>\n",
       "    </tr>\n",
       "    <tr>\n",
       "      <th>...</th>\n",
       "      <td>...</td>\n",
       "      <td>...</td>\n",
       "      <td>...</td>\n",
       "      <td>...</td>\n",
       "      <td>...</td>\n",
       "      <td>...</td>\n",
       "      <td>...</td>\n",
       "      <td>...</td>\n",
       "      <td>...</td>\n",
       "      <td>...</td>\n",
       "      <td>...</td>\n",
       "      <td>...</td>\n",
       "      <td>...</td>\n",
       "      <td>...</td>\n",
       "      <td>...</td>\n",
       "      <td>...</td>\n",
       "      <td>...</td>\n",
       "      <td>...</td>\n",
       "      <td>...</td>\n",
       "      <td>...</td>\n",
       "      <td>...</td>\n",
       "    </tr>\n",
       "    <tr>\n",
       "      <th>Woodson, Jason</th>\n",
       "      <td>10135</td>\n",
       "      <td>0</td>\n",
       "      <td>0</td>\n",
       "      <td>1</td>\n",
       "      <td>1</td>\n",
       "      <td>5</td>\n",
       "      <td>3</td>\n",
       "      <td>0</td>\n",
       "      <td>65893</td>\n",
       "      <td>0</td>\n",
       "      <td>...</td>\n",
       "      <td>Kissy Sullivan</td>\n",
       "      <td>20.0</td>\n",
       "      <td>LinkedIn</td>\n",
       "      <td>Fully Meets</td>\n",
       "      <td>4.07</td>\n",
       "      <td>4</td>\n",
       "      <td>0</td>\n",
       "      <td>2/28/2019</td>\n",
       "      <td>0</td>\n",
       "      <td>13</td>\n",
       "    </tr>\n",
       "    <tr>\n",
       "      <th>Ybarra, Catherine</th>\n",
       "      <td>10301</td>\n",
       "      <td>0</td>\n",
       "      <td>0</td>\n",
       "      <td>0</td>\n",
       "      <td>5</td>\n",
       "      <td>5</td>\n",
       "      <td>1</td>\n",
       "      <td>0</td>\n",
       "      <td>48513</td>\n",
       "      <td>1</td>\n",
       "      <td>...</td>\n",
       "      <td>Brannon Miller</td>\n",
       "      <td>12.0</td>\n",
       "      <td>Google Search</td>\n",
       "      <td>PIP</td>\n",
       "      <td>3.20</td>\n",
       "      <td>2</td>\n",
       "      <td>0</td>\n",
       "      <td>9/2/2015</td>\n",
       "      <td>5</td>\n",
       "      <td>4</td>\n",
       "    </tr>\n",
       "    <tr>\n",
       "      <th>Zamora, Jennifer</th>\n",
       "      <td>10010</td>\n",
       "      <td>0</td>\n",
       "      <td>0</td>\n",
       "      <td>0</td>\n",
       "      <td>1</td>\n",
       "      <td>3</td>\n",
       "      <td>4</td>\n",
       "      <td>0</td>\n",
       "      <td>220450</td>\n",
       "      <td>0</td>\n",
       "      <td>...</td>\n",
       "      <td>Janet King</td>\n",
       "      <td>2.0</td>\n",
       "      <td>Employee Referral</td>\n",
       "      <td>Exceeds</td>\n",
       "      <td>4.60</td>\n",
       "      <td>5</td>\n",
       "      <td>6</td>\n",
       "      <td>2/21/2019</td>\n",
       "      <td>0</td>\n",
       "      <td>16</td>\n",
       "    </tr>\n",
       "    <tr>\n",
       "      <th>Zhou, Julia</th>\n",
       "      <td>10043</td>\n",
       "      <td>0</td>\n",
       "      <td>0</td>\n",
       "      <td>0</td>\n",
       "      <td>1</td>\n",
       "      <td>3</td>\n",
       "      <td>3</td>\n",
       "      <td>0</td>\n",
       "      <td>89292</td>\n",
       "      <td>0</td>\n",
       "      <td>...</td>\n",
       "      <td>Simon Roup</td>\n",
       "      <td>4.0</td>\n",
       "      <td>Employee Referral</td>\n",
       "      <td>Fully Meets</td>\n",
       "      <td>5.00</td>\n",
       "      <td>3</td>\n",
       "      <td>5</td>\n",
       "      <td>2/1/2019</td>\n",
       "      <td>0</td>\n",
       "      <td>11</td>\n",
       "    </tr>\n",
       "    <tr>\n",
       "      <th>Zima, Colleen</th>\n",
       "      <td>10271</td>\n",
       "      <td>0</td>\n",
       "      <td>4</td>\n",
       "      <td>0</td>\n",
       "      <td>1</td>\n",
       "      <td>5</td>\n",
       "      <td>3</td>\n",
       "      <td>0</td>\n",
       "      <td>45046</td>\n",
       "      <td>0</td>\n",
       "      <td>...</td>\n",
       "      <td>David Stanley</td>\n",
       "      <td>14.0</td>\n",
       "      <td>LinkedIn</td>\n",
       "      <td>Fully Meets</td>\n",
       "      <td>4.50</td>\n",
       "      <td>5</td>\n",
       "      <td>0</td>\n",
       "      <td>1/30/2019</td>\n",
       "      <td>0</td>\n",
       "      <td>2</td>\n",
       "    </tr>\n",
       "  </tbody>\n",
       "</table>\n",
       "<p>311 rows × 35 columns</p>\n",
       "</div>"
      ],
      "text/plain": [
       "                          EmpID  MarriedID  MaritalStatusID  GenderID  \\\n",
       "Employee_Name                                                           \n",
       "Adinolfi, Wilson  K       10026          0                0         1   \n",
       "Ait Sidi, Karthikeyan     10084          1                1         1   \n",
       "Akinkuolie, Sarah         10196          1                1         0   \n",
       "Alagbe,Trina              10088          1                1         0   \n",
       "Anderson, Carol           10069          0                2         0   \n",
       "...                         ...        ...              ...       ...   \n",
       "Woodson, Jason            10135          0                0         1   \n",
       "Ybarra, Catherine         10301          0                0         0   \n",
       "Zamora, Jennifer          10010          0                0         0   \n",
       "Zhou, Julia               10043          0                0         0   \n",
       "Zima, Colleen             10271          0                4         0   \n",
       "\n",
       "                          EmpStatusID  DeptID  PerfScoreID  \\\n",
       "Employee_Name                                                \n",
       "Adinolfi, Wilson  K                 1       5            4   \n",
       "Ait Sidi, Karthikeyan               5       3            3   \n",
       "Akinkuolie, Sarah                   5       5            3   \n",
       "Alagbe,Trina                        1       5            3   \n",
       "Anderson, Carol                     5       5            3   \n",
       "...                               ...     ...          ...   \n",
       "Woodson, Jason                      1       5            3   \n",
       "Ybarra, Catherine                   5       5            1   \n",
       "Zamora, Jennifer                    1       3            4   \n",
       "Zhou, Julia                         1       3            3   \n",
       "Zima, Colleen                       1       5            3   \n",
       "\n",
       "                          FromDiversityJobFairID  Salary  Termd  ...  \\\n",
       "Employee_Name                                                    ...   \n",
       "Adinolfi, Wilson  K                            0   62506      0  ...   \n",
       "Ait Sidi, Karthikeyan                          0  104437      1  ...   \n",
       "Akinkuolie, Sarah                              0   64955      1  ...   \n",
       "Alagbe,Trina                                   0   64991      0  ...   \n",
       "Anderson, Carol                                0   50825      1  ...   \n",
       "...                                          ...     ...    ...  ...   \n",
       "Woodson, Jason                                 0   65893      0  ...   \n",
       "Ybarra, Catherine                              0   48513      1  ...   \n",
       "Zamora, Jennifer                               0  220450      0  ...   \n",
       "Zhou, Julia                                    0   89292      0  ...   \n",
       "Zima, Colleen                                  0   45046      0  ...   \n",
       "\n",
       "                             ManagerName ManagerID  RecruitmentSource  \\\n",
       "Employee_Name                                                           \n",
       "Adinolfi, Wilson  K       Michael Albert      22.0           LinkedIn   \n",
       "Ait Sidi, Karthikeyan         Simon Roup       4.0             Indeed   \n",
       "Akinkuolie, Sarah         Kissy Sullivan      20.0           LinkedIn   \n",
       "Alagbe,Trina                Elijiah Gray      16.0             Indeed   \n",
       "Anderson, Carol           Webster Butler      39.0      Google Search   \n",
       "...                                  ...       ...                ...   \n",
       "Woodson, Jason            Kissy Sullivan      20.0           LinkedIn   \n",
       "Ybarra, Catherine         Brannon Miller      12.0      Google Search   \n",
       "Zamora, Jennifer              Janet King       2.0  Employee Referral   \n",
       "Zhou, Julia                   Simon Roup       4.0  Employee Referral   \n",
       "Zima, Colleen              David Stanley      14.0           LinkedIn   \n",
       "\n",
       "                          PerformanceScore EngagementSurvey EmpSatisfaction  \\\n",
       "Employee_Name                                                                 \n",
       "Adinolfi, Wilson  K                Exceeds             4.60               5   \n",
       "Ait Sidi, Karthikeyan          Fully Meets             4.96               3   \n",
       "Akinkuolie, Sarah              Fully Meets             3.02               3   \n",
       "Alagbe,Trina                   Fully Meets             4.84               5   \n",
       "Anderson, Carol                Fully Meets             5.00               4   \n",
       "...                                    ...              ...             ...   \n",
       "Woodson, Jason                 Fully Meets             4.07               4   \n",
       "Ybarra, Catherine                      PIP             3.20               2   \n",
       "Zamora, Jennifer                   Exceeds             4.60               5   \n",
       "Zhou, Julia                    Fully Meets             5.00               3   \n",
       "Zima, Colleen                  Fully Meets             4.50               5   \n",
       "\n",
       "                         SpecialProjectsCount LastPerformanceReview_Date  \\\n",
       "Employee_Name                                                              \n",
       "Adinolfi, Wilson  K                         0                  1/17/2019   \n",
       "Ait Sidi, Karthikeyan                       6                  2/24/2016   \n",
       "Akinkuolie, Sarah                           0                  5/15/2012   \n",
       "Alagbe,Trina                                0                   1/3/2019   \n",
       "Anderson, Carol                             0                   2/1/2016   \n",
       "...                                       ...                        ...   \n",
       "Woodson, Jason                              0                  2/28/2019   \n",
       "Ybarra, Catherine                           0                   9/2/2015   \n",
       "Zamora, Jennifer                            6                  2/21/2019   \n",
       "Zhou, Julia                                 5                   2/1/2019   \n",
       "Zima, Colleen                               0                  1/30/2019   \n",
       "\n",
       "                         DaysLateLast30 Absences  \n",
       "Employee_Name                                     \n",
       "Adinolfi, Wilson  K                   0        1  \n",
       "Ait Sidi, Karthikeyan                 0       17  \n",
       "Akinkuolie, Sarah                     0        3  \n",
       "Alagbe,Trina                          0       15  \n",
       "Anderson, Carol                       0        2  \n",
       "...                                 ...      ...  \n",
       "Woodson, Jason                        0       13  \n",
       "Ybarra, Catherine                     5        4  \n",
       "Zamora, Jennifer                      0       16  \n",
       "Zhou, Julia                           0       11  \n",
       "Zima, Colleen                         0        2  \n",
       "\n",
       "[311 rows x 35 columns]"
      ]
     },
     "execution_count": 4,
     "metadata": {},
     "output_type": "execute_result"
    }
   ],
   "source": [
    "a=pd.read_csv(\"/kaggle/input/human-resources-data-set/HRDataset_v14.csv\",index_col=['Employee_Name'])\n",
    "a"
   ]
  },
  {
   "cell_type": "code",
   "execution_count": 5,
   "id": "f89d9a1f",
   "metadata": {
    "execution": {
     "iopub.execute_input": "2023-09-14T15:24:48.813527Z",
     "iopub.status.busy": "2023-09-14T15:24:48.813132Z",
     "iopub.status.idle": "2023-09-14T15:24:48.845352Z",
     "shell.execute_reply": "2023-09-14T15:24:48.844274Z"
    },
    "papermill": {
     "duration": 0.055107,
     "end_time": "2023-09-14T15:24:48.847767",
     "exception": false,
     "start_time": "2023-09-14T15:24:48.792660",
     "status": "completed"
    },
    "tags": []
   },
   "outputs": [
    {
     "data": {
      "text/html": [
       "<div>\n",
       "<style scoped>\n",
       "    .dataframe tbody tr th:only-of-type {\n",
       "        vertical-align: middle;\n",
       "    }\n",
       "\n",
       "    .dataframe tbody tr th {\n",
       "        vertical-align: top;\n",
       "    }\n",
       "\n",
       "    .dataframe thead th {\n",
       "        text-align: right;\n",
       "    }\n",
       "</style>\n",
       "<table border=\"1\" class=\"dataframe\">\n",
       "  <thead>\n",
       "    <tr style=\"text-align: right;\">\n",
       "      <th></th>\n",
       "      <th>EmpID</th>\n",
       "      <th>MarriedID</th>\n",
       "      <th>MaritalStatusID</th>\n",
       "      <th>GenderID</th>\n",
       "      <th>EmpStatusID</th>\n",
       "      <th>DeptID</th>\n",
       "      <th>PerfScoreID</th>\n",
       "      <th>FromDiversityJobFairID</th>\n",
       "      <th>Salary</th>\n",
       "      <th>Termd</th>\n",
       "      <th>...</th>\n",
       "      <th>ManagerName</th>\n",
       "      <th>ManagerID</th>\n",
       "      <th>RecruitmentSource</th>\n",
       "      <th>PerformanceScore</th>\n",
       "      <th>EngagementSurvey</th>\n",
       "      <th>EmpSatisfaction</th>\n",
       "      <th>SpecialProjectsCount</th>\n",
       "      <th>LastPerformanceReview_Date</th>\n",
       "      <th>DaysLateLast30</th>\n",
       "      <th>Absences</th>\n",
       "    </tr>\n",
       "    <tr>\n",
       "      <th>Employee_Name</th>\n",
       "      <th></th>\n",
       "      <th></th>\n",
       "      <th></th>\n",
       "      <th></th>\n",
       "      <th></th>\n",
       "      <th></th>\n",
       "      <th></th>\n",
       "      <th></th>\n",
       "      <th></th>\n",
       "      <th></th>\n",
       "      <th></th>\n",
       "      <th></th>\n",
       "      <th></th>\n",
       "      <th></th>\n",
       "      <th></th>\n",
       "      <th></th>\n",
       "      <th></th>\n",
       "      <th></th>\n",
       "      <th></th>\n",
       "      <th></th>\n",
       "      <th></th>\n",
       "    </tr>\n",
       "  </thead>\n",
       "  <tbody>\n",
       "    <tr>\n",
       "      <th>Candie, Calvin</th>\n",
       "      <td>10001</td>\n",
       "      <td>0</td>\n",
       "      <td>0</td>\n",
       "      <td>1</td>\n",
       "      <td>1</td>\n",
       "      <td>5</td>\n",
       "      <td>4</td>\n",
       "      <td>0</td>\n",
       "      <td>72640</td>\n",
       "      <td>0</td>\n",
       "      <td>...</td>\n",
       "      <td>Janet King</td>\n",
       "      <td>2.0</td>\n",
       "      <td>Indeed</td>\n",
       "      <td>Exceeds</td>\n",
       "      <td>5.00</td>\n",
       "      <td>3</td>\n",
       "      <td>0</td>\n",
       "      <td>2/22/2019</td>\n",
       "      <td>0</td>\n",
       "      <td>14</td>\n",
       "    </tr>\n",
       "    <tr>\n",
       "      <th>Anderson, Linda</th>\n",
       "      <td>10002</td>\n",
       "      <td>0</td>\n",
       "      <td>0</td>\n",
       "      <td>0</td>\n",
       "      <td>1</td>\n",
       "      <td>5</td>\n",
       "      <td>4</td>\n",
       "      <td>0</td>\n",
       "      <td>57568</td>\n",
       "      <td>0</td>\n",
       "      <td>...</td>\n",
       "      <td>Amy Dunn</td>\n",
       "      <td>11.0</td>\n",
       "      <td>LinkedIn</td>\n",
       "      <td>Exceeds</td>\n",
       "      <td>5.00</td>\n",
       "      <td>5</td>\n",
       "      <td>0</td>\n",
       "      <td>1/7/2019</td>\n",
       "      <td>0</td>\n",
       "      <td>15</td>\n",
       "    </tr>\n",
       "    <tr>\n",
       "      <th>Billis, Helen</th>\n",
       "      <td>10003</td>\n",
       "      <td>1</td>\n",
       "      <td>1</td>\n",
       "      <td>0</td>\n",
       "      <td>1</td>\n",
       "      <td>5</td>\n",
       "      <td>4</td>\n",
       "      <td>0</td>\n",
       "      <td>62910</td>\n",
       "      <td>0</td>\n",
       "      <td>...</td>\n",
       "      <td>Brannon Miller</td>\n",
       "      <td>12.0</td>\n",
       "      <td>Indeed</td>\n",
       "      <td>Exceeds</td>\n",
       "      <td>5.00</td>\n",
       "      <td>3</td>\n",
       "      <td>0</td>\n",
       "      <td>2/27/2019</td>\n",
       "      <td>0</td>\n",
       "      <td>19</td>\n",
       "    </tr>\n",
       "    <tr>\n",
       "      <th>Lynch, Lindsay</th>\n",
       "      <td>10004</td>\n",
       "      <td>0</td>\n",
       "      <td>0</td>\n",
       "      <td>0</td>\n",
       "      <td>5</td>\n",
       "      <td>5</td>\n",
       "      <td>4</td>\n",
       "      <td>1</td>\n",
       "      <td>47434</td>\n",
       "      <td>1</td>\n",
       "      <td>...</td>\n",
       "      <td>Webster Butler</td>\n",
       "      <td>39.0</td>\n",
       "      <td>Diversity Job Fair</td>\n",
       "      <td>Exceeds</td>\n",
       "      <td>5.00</td>\n",
       "      <td>4</td>\n",
       "      <td>0</td>\n",
       "      <td>2/2/2015</td>\n",
       "      <td>0</td>\n",
       "      <td>17</td>\n",
       "    </tr>\n",
       "    <tr>\n",
       "      <th>Patronick, Lucas</th>\n",
       "      <td>10005</td>\n",
       "      <td>0</td>\n",
       "      <td>0</td>\n",
       "      <td>1</td>\n",
       "      <td>5</td>\n",
       "      <td>4</td>\n",
       "      <td>4</td>\n",
       "      <td>1</td>\n",
       "      <td>108987</td>\n",
       "      <td>1</td>\n",
       "      <td>...</td>\n",
       "      <td>Alex Sweetwater</td>\n",
       "      <td>10.0</td>\n",
       "      <td>Diversity Job Fair</td>\n",
       "      <td>Exceeds</td>\n",
       "      <td>5.00</td>\n",
       "      <td>5</td>\n",
       "      <td>3</td>\n",
       "      <td>8/16/2015</td>\n",
       "      <td>0</td>\n",
       "      <td>13</td>\n",
       "    </tr>\n",
       "    <tr>\n",
       "      <th>...</th>\n",
       "      <td>...</td>\n",
       "      <td>...</td>\n",
       "      <td>...</td>\n",
       "      <td>...</td>\n",
       "      <td>...</td>\n",
       "      <td>...</td>\n",
       "      <td>...</td>\n",
       "      <td>...</td>\n",
       "      <td>...</td>\n",
       "      <td>...</td>\n",
       "      <td>...</td>\n",
       "      <td>...</td>\n",
       "      <td>...</td>\n",
       "      <td>...</td>\n",
       "      <td>...</td>\n",
       "      <td>...</td>\n",
       "      <td>...</td>\n",
       "      <td>...</td>\n",
       "      <td>...</td>\n",
       "      <td>...</td>\n",
       "      <td>...</td>\n",
       "    </tr>\n",
       "    <tr>\n",
       "      <th>Stansfield, Norman</th>\n",
       "      <td>10307</td>\n",
       "      <td>1</td>\n",
       "      <td>1</td>\n",
       "      <td>1</td>\n",
       "      <td>1</td>\n",
       "      <td>6</td>\n",
       "      <td>1</td>\n",
       "      <td>0</td>\n",
       "      <td>58273</td>\n",
       "      <td>0</td>\n",
       "      <td>...</td>\n",
       "      <td>Lynn Daneault</td>\n",
       "      <td>21.0</td>\n",
       "      <td>Website</td>\n",
       "      <td>PIP</td>\n",
       "      <td>1.81</td>\n",
       "      <td>2</td>\n",
       "      <td>0</td>\n",
       "      <td>1/17/2019</td>\n",
       "      <td>3</td>\n",
       "      <td>5</td>\n",
       "    </tr>\n",
       "    <tr>\n",
       "      <th>Fernandes, Nilson</th>\n",
       "      <td>10308</td>\n",
       "      <td>1</td>\n",
       "      <td>1</td>\n",
       "      <td>1</td>\n",
       "      <td>1</td>\n",
       "      <td>5</td>\n",
       "      <td>1</td>\n",
       "      <td>0</td>\n",
       "      <td>64057</td>\n",
       "      <td>0</td>\n",
       "      <td>...</td>\n",
       "      <td>Amy Dunn</td>\n",
       "      <td>11.0</td>\n",
       "      <td>Indeed</td>\n",
       "      <td>PIP</td>\n",
       "      <td>1.56</td>\n",
       "      <td>5</td>\n",
       "      <td>0</td>\n",
       "      <td>1/3/2019</td>\n",
       "      <td>6</td>\n",
       "      <td>15</td>\n",
       "    </tr>\n",
       "    <tr>\n",
       "      <th>Fett, Boba</th>\n",
       "      <td>10309</td>\n",
       "      <td>0</td>\n",
       "      <td>0</td>\n",
       "      <td>1</td>\n",
       "      <td>1</td>\n",
       "      <td>3</td>\n",
       "      <td>1</td>\n",
       "      <td>0</td>\n",
       "      <td>53366</td>\n",
       "      <td>0</td>\n",
       "      <td>...</td>\n",
       "      <td>Peter Monroe</td>\n",
       "      <td>7.0</td>\n",
       "      <td>LinkedIn</td>\n",
       "      <td>PIP</td>\n",
       "      <td>1.20</td>\n",
       "      <td>3</td>\n",
       "      <td>6</td>\n",
       "      <td>2/4/2019</td>\n",
       "      <td>3</td>\n",
       "      <td>2</td>\n",
       "    </tr>\n",
       "    <tr>\n",
       "      <th>Desimone, Carl</th>\n",
       "      <td>10310</td>\n",
       "      <td>1</td>\n",
       "      <td>1</td>\n",
       "      <td>1</td>\n",
       "      <td>1</td>\n",
       "      <td>5</td>\n",
       "      <td>1</td>\n",
       "      <td>0</td>\n",
       "      <td>53189</td>\n",
       "      <td>0</td>\n",
       "      <td>...</td>\n",
       "      <td>Amy Dunn</td>\n",
       "      <td>11.0</td>\n",
       "      <td>Indeed</td>\n",
       "      <td>PIP</td>\n",
       "      <td>1.12</td>\n",
       "      <td>2</td>\n",
       "      <td>0</td>\n",
       "      <td>1/31/2019</td>\n",
       "      <td>4</td>\n",
       "      <td>9</td>\n",
       "    </tr>\n",
       "    <tr>\n",
       "      <th>Dee, Randy</th>\n",
       "      <td>10311</td>\n",
       "      <td>1</td>\n",
       "      <td>1</td>\n",
       "      <td>1</td>\n",
       "      <td>1</td>\n",
       "      <td>6</td>\n",
       "      <td>1</td>\n",
       "      <td>0</td>\n",
       "      <td>56991</td>\n",
       "      <td>0</td>\n",
       "      <td>...</td>\n",
       "      <td>Brannon Miller</td>\n",
       "      <td>12.0</td>\n",
       "      <td>Indeed</td>\n",
       "      <td>Fully Meets</td>\n",
       "      <td>4.30</td>\n",
       "      <td>4</td>\n",
       "      <td>3</td>\n",
       "      <td>1/31/2019</td>\n",
       "      <td>2</td>\n",
       "      <td>2</td>\n",
       "    </tr>\n",
       "  </tbody>\n",
       "</table>\n",
       "<p>311 rows × 35 columns</p>\n",
       "</div>"
      ],
      "text/plain": [
       "                     EmpID  MarriedID  MaritalStatusID  GenderID  EmpStatusID  \\\n",
       "Employee_Name                                                                   \n",
       "Candie, Calvin       10001          0                0         1            1   \n",
       "Anderson, Linda      10002          0                0         0            1   \n",
       "Billis, Helen        10003          1                1         0            1   \n",
       "Lynch, Lindsay       10004          0                0         0            5   \n",
       "Patronick, Lucas     10005          0                0         1            5   \n",
       "...                    ...        ...              ...       ...          ...   \n",
       "Stansfield, Norman   10307          1                1         1            1   \n",
       "Fernandes, Nilson    10308          1                1         1            1   \n",
       "Fett, Boba           10309          0                0         1            1   \n",
       "Desimone, Carl       10310          1                1         1            1   \n",
       "Dee, Randy           10311          1                1         1            1   \n",
       "\n",
       "                     DeptID  PerfScoreID  FromDiversityJobFairID  Salary  \\\n",
       "Employee_Name                                                              \n",
       "Candie, Calvin            5            4                       0   72640   \n",
       "Anderson, Linda           5            4                       0   57568   \n",
       "Billis, Helen             5            4                       0   62910   \n",
       "Lynch, Lindsay            5            4                       1   47434   \n",
       "Patronick, Lucas          4            4                       1  108987   \n",
       "...                     ...          ...                     ...     ...   \n",
       "Stansfield, Norman        6            1                       0   58273   \n",
       "Fernandes, Nilson         5            1                       0   64057   \n",
       "Fett, Boba                3            1                       0   53366   \n",
       "Desimone, Carl            5            1                       0   53189   \n",
       "Dee, Randy                6            1                       0   56991   \n",
       "\n",
       "                     Termd  ...      ManagerName ManagerID  \\\n",
       "Employee_Name               ...                              \n",
       "Candie, Calvin           0  ...       Janet King       2.0   \n",
       "Anderson, Linda          0  ...         Amy Dunn      11.0   \n",
       "Billis, Helen            0  ...   Brannon Miller      12.0   \n",
       "Lynch, Lindsay           1  ...   Webster Butler      39.0   \n",
       "Patronick, Lucas         1  ...  Alex Sweetwater      10.0   \n",
       "...                    ...  ...              ...       ...   \n",
       "Stansfield, Norman       0  ...    Lynn Daneault      21.0   \n",
       "Fernandes, Nilson        0  ...         Amy Dunn      11.0   \n",
       "Fett, Boba               0  ...     Peter Monroe       7.0   \n",
       "Desimone, Carl           0  ...         Amy Dunn      11.0   \n",
       "Dee, Randy               0  ...   Brannon Miller      12.0   \n",
       "\n",
       "                      RecruitmentSource  PerformanceScore EngagementSurvey  \\\n",
       "Employee_Name                                                                \n",
       "Candie, Calvin                   Indeed           Exceeds             5.00   \n",
       "Anderson, Linda                LinkedIn           Exceeds             5.00   \n",
       "Billis, Helen                    Indeed           Exceeds             5.00   \n",
       "Lynch, Lindsay       Diversity Job Fair           Exceeds             5.00   \n",
       "Patronick, Lucas     Diversity Job Fair           Exceeds             5.00   \n",
       "...                                 ...               ...              ...   \n",
       "Stansfield, Norman              Website               PIP             1.81   \n",
       "Fernandes, Nilson                Indeed               PIP             1.56   \n",
       "Fett, Boba                     LinkedIn               PIP             1.20   \n",
       "Desimone, Carl                   Indeed               PIP             1.12   \n",
       "Dee, Randy                       Indeed       Fully Meets             4.30   \n",
       "\n",
       "                    EmpSatisfaction SpecialProjectsCount  \\\n",
       "Employee_Name                                              \n",
       "Candie, Calvin                    3                    0   \n",
       "Anderson, Linda                   5                    0   \n",
       "Billis, Helen                     3                    0   \n",
       "Lynch, Lindsay                    4                    0   \n",
       "Patronick, Lucas                  5                    3   \n",
       "...                             ...                  ...   \n",
       "Stansfield, Norman                2                    0   \n",
       "Fernandes, Nilson                 5                    0   \n",
       "Fett, Boba                        3                    6   \n",
       "Desimone, Carl                    2                    0   \n",
       "Dee, Randy                        4                    3   \n",
       "\n",
       "                    LastPerformanceReview_Date DaysLateLast30 Absences  \n",
       "Employee_Name                                                           \n",
       "Candie, Calvin                       2/22/2019              0       14  \n",
       "Anderson, Linda                       1/7/2019              0       15  \n",
       "Billis, Helen                        2/27/2019              0       19  \n",
       "Lynch, Lindsay                        2/2/2015              0       17  \n",
       "Patronick, Lucas                     8/16/2015              0       13  \n",
       "...                                        ...            ...      ...  \n",
       "Stansfield, Norman                   1/17/2019              3        5  \n",
       "Fernandes, Nilson                     1/3/2019              6       15  \n",
       "Fett, Boba                            2/4/2019              3        2  \n",
       "Desimone, Carl                       1/31/2019              4        9  \n",
       "Dee, Randy                           1/31/2019              2        2  \n",
       "\n",
       "[311 rows x 35 columns]"
      ]
     },
     "execution_count": 5,
     "metadata": {},
     "output_type": "execute_result"
    }
   ],
   "source": [
    "a.sort_values('EmpID',ascending=True,inplace=True)\n",
    "a"
   ]
  },
  {
   "cell_type": "markdown",
   "id": "c03e3e81",
   "metadata": {
    "papermill": {
     "duration": 0.019148,
     "end_time": "2023-09-14T15:24:48.886177",
     "exception": false,
     "start_time": "2023-09-14T15:24:48.867029",
     "status": "completed"
    },
    "tags": []
   },
   "source": [
    "**The dataset we are using comprises of 311 rows and 35 columns, which is alright for our EDA project. Let us jump into some more details about the dataset we imported**"
   ]
  },
  {
   "cell_type": "code",
   "execution_count": 6,
   "id": "b5772ba0",
   "metadata": {
    "execution": {
     "iopub.execute_input": "2023-09-14T15:24:48.989923Z",
     "iopub.status.busy": "2023-09-14T15:24:48.989274Z",
     "iopub.status.idle": "2023-09-14T15:24:49.013791Z",
     "shell.execute_reply": "2023-09-14T15:24:49.012647Z"
    },
    "papermill": {
     "duration": 0.048481,
     "end_time": "2023-09-14T15:24:49.016590",
     "exception": false,
     "start_time": "2023-09-14T15:24:48.968109",
     "status": "completed"
    },
    "tags": []
   },
   "outputs": [
    {
     "name": "stdout",
     "output_type": "stream",
     "text": [
      "<class 'pandas.core.frame.DataFrame'>\n",
      "Index: 311 entries, Candie, Calvin to Dee, Randy\n",
      "Data columns (total 35 columns):\n",
      " #   Column                      Non-Null Count  Dtype  \n",
      "---  ------                      --------------  -----  \n",
      " 0   EmpID                       311 non-null    int64  \n",
      " 1   MarriedID                   311 non-null    int64  \n",
      " 2   MaritalStatusID             311 non-null    int64  \n",
      " 3   GenderID                    311 non-null    int64  \n",
      " 4   EmpStatusID                 311 non-null    int64  \n",
      " 5   DeptID                      311 non-null    int64  \n",
      " 6   PerfScoreID                 311 non-null    int64  \n",
      " 7   FromDiversityJobFairID      311 non-null    int64  \n",
      " 8   Salary                      311 non-null    int64  \n",
      " 9   Termd                       311 non-null    int64  \n",
      " 10  PositionID                  311 non-null    int64  \n",
      " 11  Position                    311 non-null    object \n",
      " 12  State                       311 non-null    object \n",
      " 13  Zip                         311 non-null    int64  \n",
      " 14  DOB                         311 non-null    object \n",
      " 15  Sex                         311 non-null    object \n",
      " 16  MaritalDesc                 311 non-null    object \n",
      " 17  CitizenDesc                 311 non-null    object \n",
      " 18  HispanicLatino              311 non-null    object \n",
      " 19  RaceDesc                    311 non-null    object \n",
      " 20  DateofHire                  311 non-null    object \n",
      " 21  DateofTermination           104 non-null    object \n",
      " 22  TermReason                  311 non-null    object \n",
      " 23  EmploymentStatus            311 non-null    object \n",
      " 24  Department                  311 non-null    object \n",
      " 25  ManagerName                 311 non-null    object \n",
      " 26  ManagerID                   303 non-null    float64\n",
      " 27  RecruitmentSource           311 non-null    object \n",
      " 28  PerformanceScore            311 non-null    object \n",
      " 29  EngagementSurvey            311 non-null    float64\n",
      " 30  EmpSatisfaction             311 non-null    int64  \n",
      " 31  SpecialProjectsCount        311 non-null    int64  \n",
      " 32  LastPerformanceReview_Date  311 non-null    object \n",
      " 33  DaysLateLast30              311 non-null    int64  \n",
      " 34  Absences                    311 non-null    int64  \n",
      "dtypes: float64(2), int64(16), object(17)\n",
      "memory usage: 87.5+ KB\n"
     ]
    }
   ],
   "source": [
    "a.info()"
   ]
  },
  {
   "cell_type": "code",
   "execution_count": 7,
   "id": "53f88532",
   "metadata": {
    "execution": {
     "iopub.execute_input": "2023-09-14T15:24:49.058644Z",
     "iopub.status.busy": "2023-09-14T15:24:49.057931Z",
     "iopub.status.idle": "2023-09-14T15:24:49.121561Z",
     "shell.execute_reply": "2023-09-14T15:24:49.120451Z"
    },
    "papermill": {
     "duration": 0.088082,
     "end_time": "2023-09-14T15:24:49.124410",
     "exception": false,
     "start_time": "2023-09-14T15:24:49.036328",
     "status": "completed"
    },
    "tags": []
   },
   "outputs": [
    {
     "data": {
      "text/html": [
       "<div>\n",
       "<style scoped>\n",
       "    .dataframe tbody tr th:only-of-type {\n",
       "        vertical-align: middle;\n",
       "    }\n",
       "\n",
       "    .dataframe tbody tr th {\n",
       "        vertical-align: top;\n",
       "    }\n",
       "\n",
       "    .dataframe thead th {\n",
       "        text-align: right;\n",
       "    }\n",
       "</style>\n",
       "<table border=\"1\" class=\"dataframe\">\n",
       "  <thead>\n",
       "    <tr style=\"text-align: right;\">\n",
       "      <th></th>\n",
       "      <th>EmpID</th>\n",
       "      <th>MarriedID</th>\n",
       "      <th>MaritalStatusID</th>\n",
       "      <th>GenderID</th>\n",
       "      <th>EmpStatusID</th>\n",
       "      <th>DeptID</th>\n",
       "      <th>PerfScoreID</th>\n",
       "      <th>FromDiversityJobFairID</th>\n",
       "      <th>Salary</th>\n",
       "      <th>Termd</th>\n",
       "      <th>PositionID</th>\n",
       "      <th>Zip</th>\n",
       "      <th>ManagerID</th>\n",
       "      <th>EngagementSurvey</th>\n",
       "      <th>EmpSatisfaction</th>\n",
       "      <th>SpecialProjectsCount</th>\n",
       "      <th>DaysLateLast30</th>\n",
       "      <th>Absences</th>\n",
       "    </tr>\n",
       "  </thead>\n",
       "  <tbody>\n",
       "    <tr>\n",
       "      <th>count</th>\n",
       "      <td>311.000000</td>\n",
       "      <td>311.000000</td>\n",
       "      <td>311.000000</td>\n",
       "      <td>311.000000</td>\n",
       "      <td>311.000000</td>\n",
       "      <td>311.000000</td>\n",
       "      <td>311.000000</td>\n",
       "      <td>311.000000</td>\n",
       "      <td>311.000000</td>\n",
       "      <td>311.000000</td>\n",
       "      <td>311.000000</td>\n",
       "      <td>311.000000</td>\n",
       "      <td>303.000000</td>\n",
       "      <td>311.000000</td>\n",
       "      <td>311.000000</td>\n",
       "      <td>311.000000</td>\n",
       "      <td>311.000000</td>\n",
       "      <td>311.000000</td>\n",
       "    </tr>\n",
       "    <tr>\n",
       "      <th>mean</th>\n",
       "      <td>10156.000000</td>\n",
       "      <td>0.398714</td>\n",
       "      <td>0.810289</td>\n",
       "      <td>0.434084</td>\n",
       "      <td>2.392283</td>\n",
       "      <td>4.610932</td>\n",
       "      <td>2.977492</td>\n",
       "      <td>0.093248</td>\n",
       "      <td>69020.684887</td>\n",
       "      <td>0.334405</td>\n",
       "      <td>16.845659</td>\n",
       "      <td>6555.482315</td>\n",
       "      <td>14.570957</td>\n",
       "      <td>4.110000</td>\n",
       "      <td>3.890675</td>\n",
       "      <td>1.218650</td>\n",
       "      <td>0.414791</td>\n",
       "      <td>10.237942</td>\n",
       "    </tr>\n",
       "    <tr>\n",
       "      <th>std</th>\n",
       "      <td>89.922189</td>\n",
       "      <td>0.490423</td>\n",
       "      <td>0.943239</td>\n",
       "      <td>0.496435</td>\n",
       "      <td>1.794383</td>\n",
       "      <td>1.083487</td>\n",
       "      <td>0.587072</td>\n",
       "      <td>0.291248</td>\n",
       "      <td>25156.636930</td>\n",
       "      <td>0.472542</td>\n",
       "      <td>6.223419</td>\n",
       "      <td>16908.396884</td>\n",
       "      <td>8.078306</td>\n",
       "      <td>0.789938</td>\n",
       "      <td>0.909241</td>\n",
       "      <td>2.349421</td>\n",
       "      <td>1.294519</td>\n",
       "      <td>5.852596</td>\n",
       "    </tr>\n",
       "    <tr>\n",
       "      <th>min</th>\n",
       "      <td>10001.000000</td>\n",
       "      <td>0.000000</td>\n",
       "      <td>0.000000</td>\n",
       "      <td>0.000000</td>\n",
       "      <td>1.000000</td>\n",
       "      <td>1.000000</td>\n",
       "      <td>1.000000</td>\n",
       "      <td>0.000000</td>\n",
       "      <td>45046.000000</td>\n",
       "      <td>0.000000</td>\n",
       "      <td>1.000000</td>\n",
       "      <td>1013.000000</td>\n",
       "      <td>1.000000</td>\n",
       "      <td>1.120000</td>\n",
       "      <td>1.000000</td>\n",
       "      <td>0.000000</td>\n",
       "      <td>0.000000</td>\n",
       "      <td>1.000000</td>\n",
       "    </tr>\n",
       "    <tr>\n",
       "      <th>25%</th>\n",
       "      <td>10078.500000</td>\n",
       "      <td>0.000000</td>\n",
       "      <td>0.000000</td>\n",
       "      <td>0.000000</td>\n",
       "      <td>1.000000</td>\n",
       "      <td>5.000000</td>\n",
       "      <td>3.000000</td>\n",
       "      <td>0.000000</td>\n",
       "      <td>55501.500000</td>\n",
       "      <td>0.000000</td>\n",
       "      <td>18.000000</td>\n",
       "      <td>1901.500000</td>\n",
       "      <td>10.000000</td>\n",
       "      <td>3.690000</td>\n",
       "      <td>3.000000</td>\n",
       "      <td>0.000000</td>\n",
       "      <td>0.000000</td>\n",
       "      <td>5.000000</td>\n",
       "    </tr>\n",
       "    <tr>\n",
       "      <th>50%</th>\n",
       "      <td>10156.000000</td>\n",
       "      <td>0.000000</td>\n",
       "      <td>1.000000</td>\n",
       "      <td>0.000000</td>\n",
       "      <td>1.000000</td>\n",
       "      <td>5.000000</td>\n",
       "      <td>3.000000</td>\n",
       "      <td>0.000000</td>\n",
       "      <td>62810.000000</td>\n",
       "      <td>0.000000</td>\n",
       "      <td>19.000000</td>\n",
       "      <td>2132.000000</td>\n",
       "      <td>15.000000</td>\n",
       "      <td>4.280000</td>\n",
       "      <td>4.000000</td>\n",
       "      <td>0.000000</td>\n",
       "      <td>0.000000</td>\n",
       "      <td>10.000000</td>\n",
       "    </tr>\n",
       "    <tr>\n",
       "      <th>75%</th>\n",
       "      <td>10233.500000</td>\n",
       "      <td>1.000000</td>\n",
       "      <td>1.000000</td>\n",
       "      <td>1.000000</td>\n",
       "      <td>5.000000</td>\n",
       "      <td>5.000000</td>\n",
       "      <td>3.000000</td>\n",
       "      <td>0.000000</td>\n",
       "      <td>72036.000000</td>\n",
       "      <td>1.000000</td>\n",
       "      <td>20.000000</td>\n",
       "      <td>2355.000000</td>\n",
       "      <td>19.000000</td>\n",
       "      <td>4.700000</td>\n",
       "      <td>5.000000</td>\n",
       "      <td>0.000000</td>\n",
       "      <td>0.000000</td>\n",
       "      <td>15.000000</td>\n",
       "    </tr>\n",
       "    <tr>\n",
       "      <th>max</th>\n",
       "      <td>10311.000000</td>\n",
       "      <td>1.000000</td>\n",
       "      <td>4.000000</td>\n",
       "      <td>1.000000</td>\n",
       "      <td>5.000000</td>\n",
       "      <td>6.000000</td>\n",
       "      <td>4.000000</td>\n",
       "      <td>1.000000</td>\n",
       "      <td>250000.000000</td>\n",
       "      <td>1.000000</td>\n",
       "      <td>30.000000</td>\n",
       "      <td>98052.000000</td>\n",
       "      <td>39.000000</td>\n",
       "      <td>5.000000</td>\n",
       "      <td>5.000000</td>\n",
       "      <td>8.000000</td>\n",
       "      <td>6.000000</td>\n",
       "      <td>20.000000</td>\n",
       "    </tr>\n",
       "  </tbody>\n",
       "</table>\n",
       "</div>"
      ],
      "text/plain": [
       "              EmpID   MarriedID  MaritalStatusID    GenderID  EmpStatusID  \\\n",
       "count    311.000000  311.000000       311.000000  311.000000   311.000000   \n",
       "mean   10156.000000    0.398714         0.810289    0.434084     2.392283   \n",
       "std       89.922189    0.490423         0.943239    0.496435     1.794383   \n",
       "min    10001.000000    0.000000         0.000000    0.000000     1.000000   \n",
       "25%    10078.500000    0.000000         0.000000    0.000000     1.000000   \n",
       "50%    10156.000000    0.000000         1.000000    0.000000     1.000000   \n",
       "75%    10233.500000    1.000000         1.000000    1.000000     5.000000   \n",
       "max    10311.000000    1.000000         4.000000    1.000000     5.000000   \n",
       "\n",
       "           DeptID  PerfScoreID  FromDiversityJobFairID         Salary  \\\n",
       "count  311.000000   311.000000              311.000000     311.000000   \n",
       "mean     4.610932     2.977492                0.093248   69020.684887   \n",
       "std      1.083487     0.587072                0.291248   25156.636930   \n",
       "min      1.000000     1.000000                0.000000   45046.000000   \n",
       "25%      5.000000     3.000000                0.000000   55501.500000   \n",
       "50%      5.000000     3.000000                0.000000   62810.000000   \n",
       "75%      5.000000     3.000000                0.000000   72036.000000   \n",
       "max      6.000000     4.000000                1.000000  250000.000000   \n",
       "\n",
       "            Termd  PositionID           Zip   ManagerID  EngagementSurvey  \\\n",
       "count  311.000000  311.000000    311.000000  303.000000        311.000000   \n",
       "mean     0.334405   16.845659   6555.482315   14.570957          4.110000   \n",
       "std      0.472542    6.223419  16908.396884    8.078306          0.789938   \n",
       "min      0.000000    1.000000   1013.000000    1.000000          1.120000   \n",
       "25%      0.000000   18.000000   1901.500000   10.000000          3.690000   \n",
       "50%      0.000000   19.000000   2132.000000   15.000000          4.280000   \n",
       "75%      1.000000   20.000000   2355.000000   19.000000          4.700000   \n",
       "max      1.000000   30.000000  98052.000000   39.000000          5.000000   \n",
       "\n",
       "       EmpSatisfaction  SpecialProjectsCount  DaysLateLast30    Absences  \n",
       "count       311.000000            311.000000      311.000000  311.000000  \n",
       "mean          3.890675              1.218650        0.414791   10.237942  \n",
       "std           0.909241              2.349421        1.294519    5.852596  \n",
       "min           1.000000              0.000000        0.000000    1.000000  \n",
       "25%           3.000000              0.000000        0.000000    5.000000  \n",
       "50%           4.000000              0.000000        0.000000   10.000000  \n",
       "75%           5.000000              0.000000        0.000000   15.000000  \n",
       "max           5.000000              8.000000        6.000000   20.000000  "
      ]
     },
     "execution_count": 7,
     "metadata": {},
     "output_type": "execute_result"
    }
   ],
   "source": [
    "a.describe()"
   ]
  },
  {
   "cell_type": "markdown",
   "id": "d34afea8",
   "metadata": {
    "papermill": {
     "duration": 0.019794,
     "end_time": "2023-09-14T15:24:49.164600",
     "exception": false,
     "start_time": "2023-09-14T15:24:49.144806",
     "status": "completed"
    },
    "tags": []
   },
   "source": [
    "# CLEAN THE DATA"
   ]
  },
  {
   "cell_type": "code",
   "execution_count": 8,
   "id": "1e67bc83",
   "metadata": {
    "execution": {
     "iopub.execute_input": "2023-09-14T15:24:49.207413Z",
     "iopub.status.busy": "2023-09-14T15:24:49.207010Z",
     "iopub.status.idle": "2023-09-14T15:24:49.216975Z",
     "shell.execute_reply": "2023-09-14T15:24:49.215850Z"
    },
    "papermill": {
     "duration": 0.034922,
     "end_time": "2023-09-14T15:24:49.219785",
     "exception": false,
     "start_time": "2023-09-14T15:24:49.184863",
     "status": "completed"
    },
    "tags": []
   },
   "outputs": [
    {
     "data": {
      "text/plain": [
       "EmpID                           0\n",
       "MarriedID                       0\n",
       "MaritalStatusID                 0\n",
       "GenderID                        0\n",
       "EmpStatusID                     0\n",
       "DeptID                          0\n",
       "PerfScoreID                     0\n",
       "FromDiversityJobFairID          0\n",
       "Salary                          0\n",
       "Termd                           0\n",
       "PositionID                      0\n",
       "Position                        0\n",
       "State                           0\n",
       "Zip                             0\n",
       "DOB                             0\n",
       "Sex                             0\n",
       "MaritalDesc                     0\n",
       "CitizenDesc                     0\n",
       "HispanicLatino                  0\n",
       "RaceDesc                        0\n",
       "DateofHire                      0\n",
       "DateofTermination             207\n",
       "TermReason                      0\n",
       "EmploymentStatus                0\n",
       "Department                      0\n",
       "ManagerName                     0\n",
       "ManagerID                       8\n",
       "RecruitmentSource               0\n",
       "PerformanceScore                0\n",
       "EngagementSurvey                0\n",
       "EmpSatisfaction                 0\n",
       "SpecialProjectsCount            0\n",
       "LastPerformanceReview_Date      0\n",
       "DaysLateLast30                  0\n",
       "Absences                        0\n",
       "dtype: int64"
      ]
     },
     "execution_count": 8,
     "metadata": {},
     "output_type": "execute_result"
    }
   ],
   "source": [
    "a.isnull().sum()"
   ]
  },
  {
   "cell_type": "code",
   "execution_count": 9,
   "id": "78fb5af5",
   "metadata": {
    "execution": {
     "iopub.execute_input": "2023-09-14T15:24:49.263046Z",
     "iopub.status.busy": "2023-09-14T15:24:49.262303Z",
     "iopub.status.idle": "2023-09-14T15:24:49.269714Z",
     "shell.execute_reply": "2023-09-14T15:24:49.268930Z"
    },
    "papermill": {
     "duration": 0.031407,
     "end_time": "2023-09-14T15:24:49.271915",
     "exception": false,
     "start_time": "2023-09-14T15:24:49.240508",
     "status": "completed"
    },
    "tags": []
   },
   "outputs": [],
   "source": [
    "a.fillna(\"0\",inplace=True)\n"
   ]
  },
  {
   "cell_type": "code",
   "execution_count": 10,
   "id": "fab73446",
   "metadata": {
    "execution": {
     "iopub.execute_input": "2023-09-14T15:24:49.314719Z",
     "iopub.status.busy": "2023-09-14T15:24:49.314048Z",
     "iopub.status.idle": "2023-09-14T15:24:49.324147Z",
     "shell.execute_reply": "2023-09-14T15:24:49.323383Z"
    },
    "papermill": {
     "duration": 0.034195,
     "end_time": "2023-09-14T15:24:49.326271",
     "exception": false,
     "start_time": "2023-09-14T15:24:49.292076",
     "status": "completed"
    },
    "tags": []
   },
   "outputs": [
    {
     "data": {
      "text/plain": [
       "EmpID                         0\n",
       "MarriedID                     0\n",
       "MaritalStatusID               0\n",
       "GenderID                      0\n",
       "EmpStatusID                   0\n",
       "DeptID                        0\n",
       "PerfScoreID                   0\n",
       "FromDiversityJobFairID        0\n",
       "Salary                        0\n",
       "Termd                         0\n",
       "PositionID                    0\n",
       "Position                      0\n",
       "State                         0\n",
       "Zip                           0\n",
       "DOB                           0\n",
       "Sex                           0\n",
       "MaritalDesc                   0\n",
       "CitizenDesc                   0\n",
       "HispanicLatino                0\n",
       "RaceDesc                      0\n",
       "DateofHire                    0\n",
       "DateofTermination             0\n",
       "TermReason                    0\n",
       "EmploymentStatus              0\n",
       "Department                    0\n",
       "ManagerName                   0\n",
       "ManagerID                     0\n",
       "RecruitmentSource             0\n",
       "PerformanceScore              0\n",
       "EngagementSurvey              0\n",
       "EmpSatisfaction               0\n",
       "SpecialProjectsCount          0\n",
       "LastPerformanceReview_Date    0\n",
       "DaysLateLast30                0\n",
       "Absences                      0\n",
       "dtype: int64"
      ]
     },
     "execution_count": 10,
     "metadata": {},
     "output_type": "execute_result"
    }
   ],
   "source": [
    "a.isnull().sum()"
   ]
  },
  {
   "cell_type": "code",
   "execution_count": 11,
   "id": "193878c4",
   "metadata": {
    "execution": {
     "iopub.execute_input": "2023-09-14T15:24:49.368829Z",
     "iopub.status.busy": "2023-09-14T15:24:49.368103Z",
     "iopub.status.idle": "2023-09-14T15:24:49.382187Z",
     "shell.execute_reply": "2023-09-14T15:24:49.381370Z"
    },
    "papermill": {
     "duration": 0.037742,
     "end_time": "2023-09-14T15:24:49.384692",
     "exception": false,
     "start_time": "2023-09-14T15:24:49.346950",
     "status": "completed"
    },
    "tags": []
   },
   "outputs": [],
   "source": [
    "a.drop_duplicates(inplace=True)"
   ]
  },
  {
   "cell_type": "markdown",
   "id": "01a2bac8",
   "metadata": {
    "papermill": {
     "duration": 0.02042,
     "end_time": "2023-09-14T15:24:49.426175",
     "exception": false,
     "start_time": "2023-09-14T15:24:49.405755",
     "status": "completed"
    },
    "tags": []
   },
   "source": [
    "# EXPLORATORY ANALYSIS"
   ]
  },
  {
   "cell_type": "markdown",
   "id": "e971256f",
   "metadata": {
    "papermill": {
     "duration": 0.020107,
     "end_time": "2023-09-14T15:24:49.466828",
     "exception": false,
     "start_time": "2023-09-14T15:24:49.446721",
     "status": "completed"
    },
    "tags": []
   },
   "source": [
    "# **Employees With Highest Salaries**"
   ]
  },
  {
   "cell_type": "markdown",
   "id": "28333962",
   "metadata": {
    "papermill": {
     "duration": 0.020377,
     "end_time": "2023-09-14T15:24:49.508939",
     "exception": false,
     "start_time": "2023-09-14T15:24:49.488562",
     "status": "completed"
    },
    "tags": []
   },
   "source": [
    "* **Among the employees who records are with us, we need to find out who are the top 10 highest paid employees among them those 300+ employees**"
   ]
  },
  {
   "cell_type": "code",
   "execution_count": 12,
   "id": "cf9d679e",
   "metadata": {
    "execution": {
     "iopub.execute_input": "2023-09-14T15:24:49.552402Z",
     "iopub.status.busy": "2023-09-14T15:24:49.551510Z",
     "iopub.status.idle": "2023-09-14T15:24:49.557785Z",
     "shell.execute_reply": "2023-09-14T15:24:49.557046Z"
    },
    "papermill": {
     "duration": 0.030256,
     "end_time": "2023-09-14T15:24:49.559828",
     "exception": false,
     "start_time": "2023-09-14T15:24:49.529572",
     "status": "completed"
    },
    "tags": []
   },
   "outputs": [
    {
     "data": {
      "text/plain": [
       "Index(['EmpID', 'MarriedID', 'MaritalStatusID', 'GenderID', 'EmpStatusID',\n",
       "       'DeptID', 'PerfScoreID', 'FromDiversityJobFairID', 'Salary', 'Termd',\n",
       "       'PositionID', 'Position', 'State', 'Zip', 'DOB', 'Sex', 'MaritalDesc',\n",
       "       'CitizenDesc', 'HispanicLatino', 'RaceDesc', 'DateofHire',\n",
       "       'DateofTermination', 'TermReason', 'EmploymentStatus', 'Department',\n",
       "       'ManagerName', 'ManagerID', 'RecruitmentSource', 'PerformanceScore',\n",
       "       'EngagementSurvey', 'EmpSatisfaction', 'SpecialProjectsCount',\n",
       "       'LastPerformanceReview_Date', 'DaysLateLast30', 'Absences'],\n",
       "      dtype='object')"
      ]
     },
     "execution_count": 12,
     "metadata": {},
     "output_type": "execute_result"
    }
   ],
   "source": [
    "a.columns"
   ]
  },
  {
   "cell_type": "code",
   "execution_count": 13,
   "id": "a4a7b85e",
   "metadata": {
    "execution": {
     "iopub.execute_input": "2023-09-14T15:24:49.603586Z",
     "iopub.status.busy": "2023-09-14T15:24:49.602919Z",
     "iopub.status.idle": "2023-09-14T15:24:49.611155Z",
     "shell.execute_reply": "2023-09-14T15:24:49.610203Z"
    },
    "papermill": {
     "duration": 0.032973,
     "end_time": "2023-09-14T15:24:49.613612",
     "exception": false,
     "start_time": "2023-09-14T15:24:49.580639",
     "status": "completed"
    },
    "tags": []
   },
   "outputs": [
    {
     "data": {
      "text/plain": [
       "Employee_Name\n",
       "King, Janet         250000\n",
       "Zamora, Jennifer    220450\n",
       "Houlihan, Debra     180000\n",
       "Foss, Jason         178000\n",
       "Corleone, Vito      170500\n",
       "Monroe, Peter       157000\n",
       "Roper, Katie        150290\n",
       "Ruiz, Ricardo       148999\n",
       "Roup,Simon          140920\n",
       "Dougall, Eric       138888\n",
       "Name: Salary, dtype: int64"
      ]
     },
     "execution_count": 13,
     "metadata": {},
     "output_type": "execute_result"
    }
   ],
   "source": [
    "a.Salary.sort_values(ascending=False).head(10)"
   ]
  },
  {
   "cell_type": "markdown",
   "id": "3b2046d3",
   "metadata": {
    "papermill": {
     "duration": 0.02077,
     "end_time": "2023-09-14T15:24:49.655605",
     "exception": false,
     "start_time": "2023-09-14T15:24:49.634835",
     "status": "completed"
    },
    "tags": []
   },
   "source": [
    "# **Employees Who Needs Special Attention**"
   ]
  },
  {
   "cell_type": "markdown",
   "id": "c9852554",
   "metadata": {
    "papermill": {
     "duration": 0.020481,
     "end_time": "2023-09-14T15:24:49.697003",
     "exception": false,
     "start_time": "2023-09-14T15:24:49.676522",
     "status": "completed"
    },
    "tags": []
   },
   "source": [
    "* **Even after working with in a same office, in similar roles, under a common HR, the performance of the employees still differs**\n",
    "\n",
    "* **In most cases, the performance level of the employees either exceeds or fully meets the job requirements as per the company's expectations**\n",
    "\n",
    "* **But for the employees who are struggling to give their best performance, need a Performance Improvement Plan (PIP)**\n",
    "\n",
    "* **Now, our tasks is to list out the employees who requires PIP(Performance Improvement Plan)**"
   ]
  },
  {
   "cell_type": "code",
   "execution_count": 14,
   "id": "829d4da6",
   "metadata": {
    "execution": {
     "iopub.execute_input": "2023-09-14T15:24:49.740867Z",
     "iopub.status.busy": "2023-09-14T15:24:49.740438Z",
     "iopub.status.idle": "2023-09-14T15:24:49.749355Z",
     "shell.execute_reply": "2023-09-14T15:24:49.748249Z"
    },
    "papermill": {
     "duration": 0.033976,
     "end_time": "2023-09-14T15:24:49.752030",
     "exception": false,
     "start_time": "2023-09-14T15:24:49.718054",
     "status": "completed"
    },
    "tags": []
   },
   "outputs": [
    {
     "data": {
      "text/plain": [
       "Employee_Name\n",
       "Miller, Ned            PIP\n",
       "Erilus, Angela         PIP\n",
       "Gonzalez, Juan         PIP\n",
       "Ybarra, Catherine      PIP\n",
       "Sparks, Taylor         PIP\n",
       "O'hare, Lynn           PIP\n",
       "Dietrich, Jenna        PIP\n",
       "Forrest, Alex          PIP\n",
       "Delarge, Alex          PIP\n",
       "Stansfield, Norman     PIP\n",
       "Fernandes, Nilson      PIP\n",
       "Fett, Boba             PIP\n",
       "Desimone, Carl         PIP\n",
       "Name: PerformanceScore, dtype: object"
      ]
     },
     "execution_count": 14,
     "metadata": {},
     "output_type": "execute_result"
    }
   ],
   "source": [
    "a=a[a['PerformanceScore']=='PIP']\n",
    "a['PerformanceScore']"
   ]
  },
  {
   "cell_type": "code",
   "execution_count": 15,
   "id": "815df78b",
   "metadata": {
    "execution": {
     "iopub.execute_input": "2023-09-14T15:24:49.796149Z",
     "iopub.status.busy": "2023-09-14T15:24:49.795751Z",
     "iopub.status.idle": "2023-09-14T15:24:49.802233Z",
     "shell.execute_reply": "2023-09-14T15:24:49.801321Z"
    },
    "papermill": {
     "duration": 0.031238,
     "end_time": "2023-09-14T15:24:49.804515",
     "exception": false,
     "start_time": "2023-09-14T15:24:49.773277",
     "status": "completed"
    },
    "tags": []
   },
   "outputs": [
    {
     "data": {
      "text/plain": [
       "13"
      ]
     },
     "execution_count": 15,
     "metadata": {},
     "output_type": "execute_result"
    }
   ],
   "source": [
    "a['PerformanceScore'].count()"
   ]
  },
  {
   "cell_type": "markdown",
   "id": "c0a62dc8",
   "metadata": {
    "papermill": {
     "duration": 0.020971,
     "end_time": "2023-09-14T15:24:49.846576",
     "exception": false,
     "start_time": "2023-09-14T15:24:49.825605",
     "status": "completed"
    },
    "tags": []
   },
   "source": [
    "**As we can see,13 employees are struggling to give their best performance, need a Performance Improvement Plan (PIP)**"
   ]
  },
  {
   "cell_type": "code",
   "execution_count": 16,
   "id": "caade556",
   "metadata": {
    "execution": {
     "iopub.execute_input": "2023-09-14T15:24:49.890697Z",
     "iopub.status.busy": "2023-09-14T15:24:49.890302Z",
     "iopub.status.idle": "2023-09-14T15:24:49.914104Z",
     "shell.execute_reply": "2023-09-14T15:24:49.912905Z"
    },
    "papermill": {
     "duration": 0.049293,
     "end_time": "2023-09-14T15:24:49.916905",
     "exception": false,
     "start_time": "2023-09-14T15:24:49.867612",
     "status": "completed"
    },
    "tags": []
   },
   "outputs": [],
   "source": [
    "a=pd.read_csv(\"/kaggle/input/human-resources-data-set/HRDataset_v14.csv\",index_col=['Employee_Name'])\n",
    "a.sort_values('EmpID',ascending=True,inplace=True)\n",
    "a.fillna(\"0\",inplace=True)\n",
    "a.drop_duplicates(inplace=True)"
   ]
  },
  {
   "cell_type": "markdown",
   "id": "0dc11364",
   "metadata": {
    "papermill": {
     "duration": 0.021118,
     "end_time": "2023-09-14T15:24:49.959424",
     "exception": false,
     "start_time": "2023-09-14T15:24:49.938306",
     "status": "completed"
    },
    "tags": []
   },
   "source": [
    "# **No. of Absences**\n",
    "\n",
    "\n",
    "* **Now, we are looking forward to jump in the trend of absences of the employees**\n",
    "\n",
    "* **Thus, we'll count the number of the employees who were absent for the specific no. of days**"
   ]
  },
  {
   "cell_type": "code",
   "execution_count": 17,
   "id": "77fda3d5",
   "metadata": {
    "execution": {
     "iopub.execute_input": "2023-09-14T15:24:50.004527Z",
     "iopub.status.busy": "2023-09-14T15:24:50.003313Z",
     "iopub.status.idle": "2023-09-14T15:24:50.011755Z",
     "shell.execute_reply": "2023-09-14T15:24:50.011009Z"
    },
    "papermill": {
     "duration": 0.033334,
     "end_time": "2023-09-14T15:24:50.013902",
     "exception": false,
     "start_time": "2023-09-14T15:24:49.980568",
     "status": "completed"
    },
    "tags": []
   },
   "outputs": [
    {
     "data": {
      "text/plain": [
       "Absences\n",
       "4     23\n",
       "16    23\n",
       "2     21\n",
       "7     21\n",
       "15    20\n",
       "14    17\n",
       "13    17\n",
       "6     16\n",
       "3     16\n",
       "19    16\n",
       "11    15\n",
       "17    15\n",
       "9     14\n",
       "1     14\n",
       "20    14\n",
       "5     12\n",
       "8     11\n",
       "10    10\n",
       "18     8\n",
       "12     8\n",
       "Name: count, dtype: int64"
      ]
     },
     "execution_count": 17,
     "metadata": {},
     "output_type": "execute_result"
    }
   ],
   "source": [
    "a['Absences'].value_counts()"
   ]
  },
  {
   "cell_type": "markdown",
   "id": "90977728",
   "metadata": {
    "papermill": {
     "duration": 0.021823,
     "end_time": "2023-09-14T15:24:50.057058",
     "exception": false,
     "start_time": "2023-09-14T15:24:50.035235",
     "status": "completed"
    },
    "tags": []
   },
   "source": [
    "# **Whether the Employees are Married or Not?**\n",
    "\n",
    "\n",
    "* **In the dataset, there is a column named 'MarriedID', which comprises of the Boolean values i.e., 0 and 1**\n",
    "\n",
    "* **Here 0 indicates that a paricular employee is unmarries, while 1 indicates its just inverse**\n",
    "\n",
    "* **So, let us look how many employees working are married, and how many are still single**"
   ]
  },
  {
   "cell_type": "code",
   "execution_count": 18,
   "id": "f6d1a45e",
   "metadata": {
    "execution": {
     "iopub.execute_input": "2023-09-14T15:24:50.102813Z",
     "iopub.status.busy": "2023-09-14T15:24:50.102390Z",
     "iopub.status.idle": "2023-09-14T15:24:50.110748Z",
     "shell.execute_reply": "2023-09-14T15:24:50.109646Z"
    },
    "papermill": {
     "duration": 0.03438,
     "end_time": "2023-09-14T15:24:50.113076",
     "exception": false,
     "start_time": "2023-09-14T15:24:50.078696",
     "status": "completed"
    },
    "tags": []
   },
   "outputs": [
    {
     "data": {
      "text/plain": [
       "MarriedID\n",
       "0    187\n",
       "1    124\n",
       "Name: count, dtype: int64"
      ]
     },
     "execution_count": 18,
     "metadata": {},
     "output_type": "execute_result"
    }
   ],
   "source": [
    "a['MarriedID'].value_counts()"
   ]
  },
  {
   "cell_type": "markdown",
   "id": "f40c50d5",
   "metadata": {
    "papermill": {
     "duration": 0.021246,
     "end_time": "2023-09-14T15:24:50.156525",
     "exception": false,
     "start_time": "2023-09-14T15:24:50.135279",
     "status": "completed"
    },
    "tags": []
   },
   "source": [
    "**As we can see,187 employees are unmarried, while 124 are married**"
   ]
  },
  {
   "cell_type": "markdown",
   "id": "5268971c",
   "metadata": {
    "papermill": {
     "duration": 0.021755,
     "end_time": "2023-09-14T15:24:50.200382",
     "exception": false,
     "start_time": "2023-09-14T15:24:50.178627",
     "status": "completed"
    },
    "tags": []
   },
   "source": [
    "# **Employees with Special Projects**\n",
    "\n",
    "\n",
    "* **Our task is now to find out the list of employees who have the experience of atleast 1 special project**\n",
    "\n",
    "* **This will help us to promote the employees with most special projects in the higher positions or to reward them for their performance**"
   ]
  },
  {
   "cell_type": "code",
   "execution_count": 19,
   "id": "03faec7b",
   "metadata": {
    "execution": {
     "iopub.execute_input": "2023-09-14T15:24:50.246194Z",
     "iopub.status.busy": "2023-09-14T15:24:50.245776Z",
     "iopub.status.idle": "2023-09-14T15:24:50.256443Z",
     "shell.execute_reply": "2023-09-14T15:24:50.255210Z"
    },
    "papermill": {
     "duration": 0.036518,
     "end_time": "2023-09-14T15:24:50.258999",
     "exception": false,
     "start_time": "2023-09-14T15:24:50.222481",
     "status": "completed"
    },
    "tags": []
   },
   "outputs": [
    {
     "data": {
      "text/plain": [
       "Employee_Name\n",
       "Warfield, Sarah      8\n",
       "Daniele, Ann         8\n",
       "Le, Binh             7\n",
       "Wang, Charlie        7\n",
       "Roup,Simon           7\n",
       "                    ..\n",
       "Patronick, Lucas     3\n",
       "Boutwell, Bonalyn    3\n",
       "Dee, Randy           3\n",
       "Foster-Baker, Amy    2\n",
       "Sparks, Taylor       1\n",
       "Name: SpecialProjectsCount, Length: 70, dtype: int64"
      ]
     },
     "execution_count": 19,
     "metadata": {},
     "output_type": "execute_result"
    }
   ],
   "source": [
    "a=a[a['SpecialProjectsCount']!=0]\n",
    "a['SpecialProjectsCount'].sort_values(ascending=False)\n"
   ]
  },
  {
   "cell_type": "code",
   "execution_count": 20,
   "id": "587ebdcd",
   "metadata": {
    "execution": {
     "iopub.execute_input": "2023-09-14T15:24:50.305066Z",
     "iopub.status.busy": "2023-09-14T15:24:50.304624Z",
     "iopub.status.idle": "2023-09-14T15:24:50.312442Z",
     "shell.execute_reply": "2023-09-14T15:24:50.311623Z"
    },
    "papermill": {
     "duration": 0.033782,
     "end_time": "2023-09-14T15:24:50.314562",
     "exception": false,
     "start_time": "2023-09-14T15:24:50.280780",
     "status": "completed"
    },
    "tags": []
   },
   "outputs": [
    {
     "data": {
      "text/plain": [
       "70"
      ]
     },
     "execution_count": 20,
     "metadata": {},
     "output_type": "execute_result"
    }
   ],
   "source": [
    "a['SpecialProjectsCount'].sort_values(ascending=False).count()"
   ]
  },
  {
   "cell_type": "code",
   "execution_count": 21,
   "id": "7516a248",
   "metadata": {
    "execution": {
     "iopub.execute_input": "2023-09-14T15:24:50.360754Z",
     "iopub.status.busy": "2023-09-14T15:24:50.360351Z",
     "iopub.status.idle": "2023-09-14T15:24:50.384142Z",
     "shell.execute_reply": "2023-09-14T15:24:50.382952Z"
    },
    "papermill": {
     "duration": 0.050252,
     "end_time": "2023-09-14T15:24:50.386900",
     "exception": false,
     "start_time": "2023-09-14T15:24:50.336648",
     "status": "completed"
    },
    "tags": []
   },
   "outputs": [],
   "source": [
    "a=pd.read_csv(\"/kaggle/input/human-resources-data-set/HRDataset_v14.csv\",index_col=['Employee_Name'])\n",
    "a.sort_values('EmpID',ascending=True,inplace=True)\n",
    "a.fillna(\"0\",inplace=True)\n",
    "a.drop_duplicates(inplace=True)"
   ]
  },
  {
   "cell_type": "code",
   "execution_count": 22,
   "id": "62b2c18a",
   "metadata": {
    "execution": {
     "iopub.execute_input": "2023-09-14T15:24:50.433407Z",
     "iopub.status.busy": "2023-09-14T15:24:50.433012Z",
     "iopub.status.idle": "2023-09-14T15:24:50.441732Z",
     "shell.execute_reply": "2023-09-14T15:24:50.440575Z"
    },
    "papermill": {
     "duration": 0.035154,
     "end_time": "2023-09-14T15:24:50.444231",
     "exception": false,
     "start_time": "2023-09-14T15:24:50.409077",
     "status": "completed"
    },
    "tags": []
   },
   "outputs": [
    {
     "data": {
      "text/plain": [
       "241"
      ]
     },
     "execution_count": 22,
     "metadata": {},
     "output_type": "execute_result"
    }
   ],
   "source": [
    "a=a[a['SpecialProjectsCount']==0]\n",
    "a['SpecialProjectsCount'].count()"
   ]
  },
  {
   "cell_type": "markdown",
   "id": "2fa2245d",
   "metadata": {
    "papermill": {
     "duration": 0.022324,
     "end_time": "2023-09-14T15:24:50.488630",
     "exception": false,
     "start_time": "2023-09-14T15:24:50.466306",
     "status": "completed"
    },
    "tags": []
   },
   "source": [
    "**As we can see,Out of 311 Employees 70 Employees have the experience of atleast 1 special project and remaining 241 Employees have not done any special project**"
   ]
  },
  {
   "cell_type": "markdown",
   "id": "9e38f735",
   "metadata": {
    "papermill": {
     "duration": 0.021988,
     "end_time": "2023-09-14T15:24:50.533537",
     "exception": false,
     "start_time": "2023-09-14T15:24:50.511549",
     "status": "completed"
    },
    "tags": []
   },
   "source": [
    "# **Data Visualization**\n",
    "\n",
    "\n",
    "* **Till now, we have performed various queries to find out the required insights**\n",
    "\n",
    "* **Now, we'll jump into the visualization part**\n",
    "\n",
    "* **Visualizations will assist us to understand the data easily and also to find insights out of them**\n",
    "\n",
    "* **For visualization, we'll use matplotlib library, which we have already imported in the beginning**\n",
    "\n"
   ]
  },
  {
   "cell_type": "code",
   "execution_count": 23,
   "id": "aac088cb",
   "metadata": {
    "execution": {
     "iopub.execute_input": "2023-09-14T15:24:50.579855Z",
     "iopub.status.busy": "2023-09-14T15:24:50.579454Z",
     "iopub.status.idle": "2023-09-14T15:24:50.602623Z",
     "shell.execute_reply": "2023-09-14T15:24:50.601795Z"
    },
    "papermill": {
     "duration": 0.049192,
     "end_time": "2023-09-14T15:24:50.605241",
     "exception": false,
     "start_time": "2023-09-14T15:24:50.556049",
     "status": "completed"
    },
    "tags": []
   },
   "outputs": [],
   "source": [
    "a=pd.read_csv(\"/kaggle/input/human-resources-data-set/HRDataset_v14.csv\",index_col=['Employee_Name'])\n",
    "a.sort_values('EmpID',ascending=True,inplace=True)\n",
    "a.fillna(\"0\",inplace=True)\n",
    "a.drop_duplicates(inplace=True)"
   ]
  },
  {
   "cell_type": "markdown",
   "id": "af31f713",
   "metadata": {
    "papermill": {
     "duration": 0.022051,
     "end_time": "2023-09-14T15:24:50.649596",
     "exception": false,
     "start_time": "2023-09-14T15:24:50.627545",
     "status": "completed"
    },
    "tags": []
   },
   "source": [
    "# Highest vs Lowest Salaries\n",
    "\n",
    "* **Previously, during the analysis part, we have gone through the name and salaries of the highest paid employees**\n",
    "\n",
    "* **Now, we wish to compare the top 10 highest vs the lowest salaries employees get**"
   ]
  },
  {
   "cell_type": "code",
   "execution_count": 24,
   "id": "0d9d566f",
   "metadata": {
    "execution": {
     "iopub.execute_input": "2023-09-14T15:24:50.695831Z",
     "iopub.status.busy": "2023-09-14T15:24:50.695403Z",
     "iopub.status.idle": "2023-09-14T15:24:51.081910Z",
     "shell.execute_reply": "2023-09-14T15:24:51.080566Z"
    },
    "papermill": {
     "duration": 0.412783,
     "end_time": "2023-09-14T15:24:51.084624",
     "exception": false,
     "start_time": "2023-09-14T15:24:50.671841",
     "status": "completed"
    },
    "tags": []
   },
   "outputs": [
    {
     "data": {
      "image/png": "[encoded data removed]",
      "text/plain": [
       "<Figure size 640x480 with 1 Axes>"
      ]
     },
     "metadata": {},
     "output_type": "display_data"
    }
   ],
   "source": [
    "c=[1,2,3,4,5,6,7,8,9,10]\n",
    "x= a['Salary'].sort_values(ascending=False).head(10)\n",
    "y= a['Salary'].sort_values(ascending=False).tail(10)\n",
    "\n",
    "plt.bar(c,x,color='g',label=\"Highest salaries\")\n",
    "plt.bar(c,y,color='r',label=\"Lowest salaries\")\n",
    "\n",
    "plt.title(\"Top 10 Highest VS lowest salaries\",fontsize=15)\n",
    "\n",
    "plt.xticks(c)\n",
    "plt.ylabel('salaries')\n",
    "plt.legend()\n",
    "plt.show()\n"
   ]
  },
  {
   "cell_type": "markdown",
   "id": "b18e54c4",
   "metadata": {
    "papermill": {
     "duration": 0.022538,
     "end_time": "2023-09-14T15:24:51.130277",
     "exception": false,
     "start_time": "2023-09-14T15:24:51.107739",
     "status": "completed"
    },
    "tags": []
   },
   "source": [
    "# Sources of Recruitment\n",
    "\n",
    "* **In most of the cases, the companies doesn't relay on hiring only through a single source**\n",
    "\n",
    "* **They mostly hire candidates through various sources or platforms**\n",
    "\n",
    "* **Here, our task is to display the platforms along with the no. of candidates they hired from that source**"
   ]
  },
  {
   "cell_type": "code",
   "execution_count": 25,
   "id": "581412c5",
   "metadata": {
    "execution": {
     "iopub.execute_input": "2023-09-14T15:24:51.177624Z",
     "iopub.status.busy": "2023-09-14T15:24:51.176496Z",
     "iopub.status.idle": "2023-09-14T15:24:51.184636Z",
     "shell.execute_reply": "2023-09-14T15:24:51.183919Z"
    },
    "papermill": {
     "duration": 0.034085,
     "end_time": "2023-09-14T15:24:51.187078",
     "exception": false,
     "start_time": "2023-09-14T15:24:51.152993",
     "status": "completed"
    },
    "tags": []
   },
   "outputs": [
    {
     "data": {
      "text/plain": [
       "RecruitmentSource\n",
       "Indeed                     87\n",
       "LinkedIn                   76\n",
       "Google Search              49\n",
       "Employee Referral          31\n",
       "Diversity Job Fair         29\n",
       "CareerBuilder              23\n",
       "Website                    13\n",
       "Other                       2\n",
       "On-line Web application     1\n",
       "Name: count, dtype: int64"
      ]
     },
     "execution_count": 25,
     "metadata": {},
     "output_type": "execute_result"
    }
   ],
   "source": [
    "l=a['RecruitmentSource'].value_counts()\n",
    "l"
   ]
  },
  {
   "cell_type": "code",
   "execution_count": 26,
   "id": "c25f4ca9",
   "metadata": {
    "execution": {
     "iopub.execute_input": "2023-09-14T15:24:51.235568Z",
     "iopub.status.busy": "2023-09-14T15:24:51.234460Z",
     "iopub.status.idle": "2023-09-14T15:24:51.561877Z",
     "shell.execute_reply": "2023-09-14T15:24:51.560721Z"
    },
    "papermill": {
     "duration": 0.356566,
     "end_time": "2023-09-14T15:24:51.566246",
     "exception": false,
     "start_time": "2023-09-14T15:24:51.209680",
     "status": "completed"
    },
    "tags": []
   },
   "outputs": [
    {
     "data": {
      "image/png": "[encoded data removed]",
      "text/plain": [
       "<Figure size 640x480 with 1 Axes>"
      ]
     },
     "metadata": {},
     "output_type": "display_data"
    }
   ],
   "source": [
    "#using barh graph\n",
    "\n",
    "plt.barh(l.index,l,color='m')\n",
    "plt.title(\"Sources of Recruitment\",fontsize=15)\n",
    "\n",
    "plt.xlabel('Number of candidates hired')\n",
    "plt.ylabel('RecruitmentSource')\n",
    "\n",
    "plt.grid()\n",
    "plt.legend()\n",
    "plt.show()"
   ]
  },
  {
   "cell_type": "code",
   "execution_count": 27,
   "id": "910fe0c2",
   "metadata": {
    "execution": {
     "iopub.execute_input": "2023-09-14T15:24:51.621496Z",
     "iopub.status.busy": "2023-09-14T15:24:51.621110Z",
     "iopub.status.idle": "2023-09-14T15:24:51.934273Z",
     "shell.execute_reply": "2023-09-14T15:24:51.932591Z"
    },
    "papermill": {
     "duration": 0.346891,
     "end_time": "2023-09-14T15:24:51.937031",
     "exception": false,
     "start_time": "2023-09-14T15:24:51.590140",
     "status": "completed"
    },
    "tags": []
   },
   "outputs": [
    {
     "data": {
      "image/png": "[encoded data removed]",
      "text/plain": [
       "<Figure size 640x480 with 1 Axes>"
      ]
     },
     "metadata": {},
     "output_type": "display_data"
    }
   ],
   "source": [
    "#using seaborn\n",
    "sns.countplot(y='RecruitmentSource',data=a,color='g',order=a['RecruitmentSource'].value_counts().sort_values(ascending=True).index)\n",
    "\n",
    "plt.title(\"Sources of Recruitment\",fontsize=15)\n",
    "\n",
    "plt.xlabel('Number of candidates hired')\n",
    "plt.ylabel('RecruitmentSource')\n",
    "\n",
    "plt.grid()\n",
    "plt.legend()\n",
    "plt.show()"
   ]
  },
  {
   "cell_type": "markdown",
   "id": "9bbfa18b",
   "metadata": {
    "papermill": {
     "duration": 0.025577,
     "end_time": "2023-09-14T15:24:51.989518",
     "exception": false,
     "start_time": "2023-09-14T15:24:51.963941",
     "status": "completed"
    },
    "tags": []
   },
   "source": [
    "**As we can clearly see, Indeed and LinkedIn are the top platforms from where the company hired most of the candidates**"
   ]
  },
  {
   "cell_type": "markdown",
   "id": "5c4b7040",
   "metadata": {
    "papermill": {
     "duration": 0.023918,
     "end_time": "2023-09-14T15:24:52.038448",
     "exception": false,
     "start_time": "2023-09-14T15:24:52.014530",
     "status": "completed"
    },
    "tags": []
   },
   "source": [
    "# **Performance of Employees**\n",
    "\n",
    "* **The performance of every employee differs from each other**\n",
    "\n",
    "* **Some employees performs very well, some does satisfactory work, while the work of some employees fails to match the company's standards or requirements**\n",
    "\n",
    "* **We have to find out the trends of performance of the employees so that we can take better decisions for the company's workforce and their performance**"
   ]
  },
  {
   "cell_type": "code",
   "execution_count": 28,
   "id": "464693ae",
   "metadata": {
    "execution": {
     "iopub.execute_input": "2023-09-14T15:24:52.089372Z",
     "iopub.status.busy": "2023-09-14T15:24:52.088298Z",
     "iopub.status.idle": "2023-09-14T15:24:52.097485Z",
     "shell.execute_reply": "2023-09-14T15:24:52.096397Z"
    },
    "papermill": {
     "duration": 0.03705,
     "end_time": "2023-09-14T15:24:52.099749",
     "exception": false,
     "start_time": "2023-09-14T15:24:52.062699",
     "status": "completed"
    },
    "tags": []
   },
   "outputs": [
    {
     "data": {
      "text/plain": [
       "PerformanceScore\n",
       "Fully Meets          243\n",
       "Exceeds               37\n",
       "Needs Improvement     18\n",
       "PIP                   13\n",
       "Name: count, dtype: int64"
      ]
     },
     "execution_count": 28,
     "metadata": {},
     "output_type": "execute_result"
    }
   ],
   "source": [
    "z=a['PerformanceScore'].value_counts()\n",
    "z"
   ]
  },
  {
   "cell_type": "code",
   "execution_count": 29,
   "id": "560ce36e",
   "metadata": {
    "execution": {
     "iopub.execute_input": "2023-09-14T15:24:52.153210Z",
     "iopub.status.busy": "2023-09-14T15:24:52.152143Z",
     "iopub.status.idle": "2023-09-14T15:24:52.359971Z",
     "shell.execute_reply": "2023-09-14T15:24:52.358770Z"
    },
    "papermill": {
     "duration": 0.237207,
     "end_time": "2023-09-14T15:24:52.362621",
     "exception": false,
     "start_time": "2023-09-14T15:24:52.125414",
     "status": "completed"
    },
    "tags": []
   },
   "outputs": [
    {
     "data": {
      "image/png": "[encoded data removed]",
      "text/plain": [
       "<Figure size 640x480 with 1 Axes>"
      ]
     },
     "metadata": {},
     "output_type": "display_data"
    }
   ],
   "source": [
    "#line chart to find out trends of performance of the employees\n",
    "\n",
    "plt.plot(z,'r^-',linewidth=3,ms=9,mfc='w',mec='b')\n",
    "\n",
    "plt.title('Performance Score of Employees',fontsize=15)\n",
    "plt.xlabel(\"Performance Score\",fontsize=12)\n",
    "plt.ylabel(\"Values\",fontsize=12)\n",
    "\n",
    "plt.grid()\n",
    "plt.legend()\n",
    "plt.show()"
   ]
  },
  {
   "cell_type": "markdown",
   "id": "5d4f422f",
   "metadata": {
    "papermill": {
     "duration": 0.025889,
     "end_time": "2023-09-14T15:24:52.413701",
     "exception": false,
     "start_time": "2023-09-14T15:24:52.387812",
     "status": "completed"
    },
    "tags": []
   },
   "source": [
    "# Satisfaction of Employees\n",
    "\n",
    "* **Employees are asked to rate their job satisfaction on the scale of 1-5**\n",
    "\n",
    "* **Being an HR, manager, or head of the company, it is really difficult to look at the ratings of each and every employees**\n",
    "\n",
    "* **But we can make it possible with the help of the visualization**"
   ]
  },
  {
   "cell_type": "code",
   "execution_count": 30,
   "id": "ac17fe9f",
   "metadata": {
    "execution": {
     "iopub.execute_input": "2023-09-14T15:24:52.465184Z",
     "iopub.status.busy": "2023-09-14T15:24:52.464789Z",
     "iopub.status.idle": "2023-09-14T15:24:52.474074Z",
     "shell.execute_reply": "2023-09-14T15:24:52.473048Z"
    },
    "papermill": {
     "duration": 0.037625,
     "end_time": "2023-09-14T15:24:52.476267",
     "exception": false,
     "start_time": "2023-09-14T15:24:52.438642",
     "status": "completed"
    },
    "tags": []
   },
   "outputs": [
    {
     "data": {
      "text/plain": [
       "EmpSatisfaction\n",
       "3    108\n",
       "5     98\n",
       "4     94\n",
       "2      9\n",
       "1      2\n",
       "Name: count, dtype: int64"
      ]
     },
     "execution_count": 30,
     "metadata": {},
     "output_type": "execute_result"
    }
   ],
   "source": [
    "b=a['EmpSatisfaction'].value_counts()\n",
    "b"
   ]
  },
  {
   "cell_type": "code",
   "execution_count": 31,
   "id": "f72fa251",
   "metadata": {
    "execution": {
     "iopub.execute_input": "2023-09-14T15:24:52.528427Z",
     "iopub.status.busy": "2023-09-14T15:24:52.527280Z",
     "iopub.status.idle": "2023-09-14T15:24:52.734041Z",
     "shell.execute_reply": "2023-09-14T15:24:52.732930Z"
    },
    "papermill": {
     "duration": 0.235433,
     "end_time": "2023-09-14T15:24:52.736464",
     "exception": false,
     "start_time": "2023-09-14T15:24:52.501031",
     "status": "completed"
    },
    "tags": []
   },
   "outputs": [
    {
     "data": {
      "image/png": "[encoded data removed]",
      "text/plain": [
       "<Figure size 640x480 with 1 Axes>"
      ]
     },
     "metadata": {},
     "output_type": "display_data"
    }
   ],
   "source": [
    "plt.stem(b.index,b)\n",
    "\n",
    "plt.ylabel(\"No. of Employees\",fontsize=12)\n",
    "\n",
    "plt.xticks(b.index)\n",
    "plt.xlabel(\"Rating Given\",fontsize=12)\n",
    "plt.title(\"Employee Satisfaction\",fontsize=15)\n",
    "\n",
    "plt.show()"
   ]
  },
  {
   "cell_type": "markdown",
   "id": "7bcb0601",
   "metadata": {
    "papermill": {
     "duration": 0.024845,
     "end_time": "2023-09-14T15:24:52.786442",
     "exception": false,
     "start_time": "2023-09-14T15:24:52.761597",
     "status": "completed"
    },
    "tags": []
   },
   "source": [
    "# Conclusion:\n",
    "\n",
    "\n",
    "* **In this notebook, we have performed HR analytics using the 'HR Dataset'**\n",
    "\n",
    "* **As a first step, we imported the necessary libraries, and then we imported the dataset in which we need to perform EDA**\n",
    "\n",
    "* **Before beginning with the analysis, we did some data manipulation as well**\n",
    "\n",
    "* **We performed various queries for analysing the data for insights and also to create visualization for appealing appearance and better understanding**\n",
    "\n",
    "* **Thus, we successfully did the HR Data Analytics and find the insights that could extremely help the company to take decisions as per the insights obtain, for the sake of their company**"
   ]
  },
  {
   "cell_type": "markdown",
   "id": "27c4d6d0",
   "metadata": {
    "papermill": {
     "duration": 0.024788,
     "end_time": "2023-09-14T15:24:52.836672",
     "exception": false,
     "start_time": "2023-09-14T15:24:52.811884",
     "status": "completed"
    },
    "tags": []
   },
   "source": [
    "**Some interesting insights from the analysis:**\n",
    "\n",
    "* **Indeed and LinkedIn are the top platforms from where the company hired most of the candidates**\n",
    "* **187 employees are unmarried, while 124 are married**\n",
    "* **As we can see,Out of 311 Employees 70 Employees have the experience of atleast 1 special project and remaining 241 Employees have not done any special project**\n",
    "* **13 employees are struggling to give their best performance, need a Performance Improvement Plan (PIP)**"
   ]
  }
 ],
 "kernelspec": {
  "display_name": "Python 3",
  "language": "python",
  "name": "python3"
 },
 "language_info": {
  "codemirror_mode": {
   "name": "ipython",
   "version": 3
  },
  "file_extension": ".py",
  "mimetype": "text/x-python",
  "name": "python",
  "nbconvert_exporter": "python",
  "pygments_lexer": "ipython3",
  "version": "3.6.4"
 },
 "metadata": {
  "kernelspec": {
   "display_name": "Python 3",
   "language": "python",
   "name": "python3"
  },
  "language_info": {
   "codemirror_mode": {
    "name": "ipython",
    "version": 3
   },
   "file_extension": ".py",
   "mimetype": "text/x-python",
   "name": "python",
   "nbconvert_exporter": "python",
   "pygments_lexer": "ipython3",
   "version": "3.10.12"
  },
  "papermill": {
   "default_parameters": {},
   "duration": 10.72522,
   "end_time": "2023-09-14T15:24:53.482319",
   "environment_variables": {},
   "exception": null,
   "input_path": "__notebook__.ipynb",
   "output_path": "__notebook__.ipynb",
   "parameters": {},
   "start_time": "2023-09-14T15:24:42.757099",
   "version": "2.4.0"
  }
 },
 "nbformat": 4,
 "nbformat_minor": 5
}
